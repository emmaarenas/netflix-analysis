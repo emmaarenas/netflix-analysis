{
 "cells": [
  {
   "cell_type": "markdown",
   "id": "2b9dba5b",
   "metadata": {},
   "source": [
    "***Emma Arenas Villaverde***\n",
    "***"
   ]
  },
  {
   "cell_type": "markdown",
   "id": "639f93a9",
   "metadata": {},
   "source": [
    "# Netflix Dataset Analysis\n",
    "The `netflix-titles` dataset is "
   ]
  },
  {
   "cell_type": "markdown",
   "id": "07ab1228",
   "metadata": {},
   "source": [
    "## Data Preparation and Cleaning"
   ]
  },
  {
   "cell_type": "markdown",
   "id": "7d2f2266",
   "metadata": {},
   "source": [
    "### Importing Libraries"
   ]
  },
  {
   "cell_type": "code",
   "execution_count": null,
   "id": "1a150c0a",
   "metadata": {
    "vscode": {
     "languageId": "r"
    }
   },
   "outputs": [],
   "source": [
    "install.packages(\"readr\") # to read CSV files\n",
    "install.packages(\"dplyr\") # for data manipulation\n",
    "install.packages(\"lubridate\") # for \n",
    "install.packages(\"ggplot2\")\n",
    "library(readr)\n",
    "library(dplyr)\n",
    "library(lubridate)\n",
    "library(ggplot2)"
   ]
  },
  {
   "cell_type": "markdown",
   "id": "fe4b964d",
   "metadata": {},
   "source": [
    "###  Loading Dataset"
   ]
  },
  {
   "cell_type": "code",
   "execution_count": 2,
   "id": "e09fbcfc",
   "metadata": {
    "vscode": {
     "languageId": "r"
    }
   },
   "outputs": [],
   "source": [
    "netflix_titles <- read.csv2(\"../data/netflix-titles.csv\")"
   ]
  },
  {
   "cell_type": "markdown",
   "id": "e28cd5c9",
   "metadata": {},
   "source": [
    "### Data Overview"
   ]
  },
  {
   "cell_type": "code",
   "execution_count": 3,
   "id": "74eba195",
   "metadata": {
    "vscode": {
     "languageId": "r"
    }
   },
   "outputs": [
    {
     "data": {
      "text/html": [
       "<style>\n",
       ".list-inline {list-style: none; margin:0; padding: 0}\n",
       ".list-inline>li {display: inline-block}\n",
       ".list-inline>li:not(:last-child)::after {content: \"\\00b7\"; padding: 0 .5ex}\n",
       "</style>\n",
       "<ol class=list-inline><li>8811</li><li>12</li></ol>\n"
      ],
      "text/latex": [
       "\\begin{enumerate*}\n",
       "\\item 8811\n",
       "\\item 12\n",
       "\\end{enumerate*}\n"
      ],
      "text/markdown": [
       "1. 8811\n",
       "2. 12\n",
       "\n",
       "\n"
      ],
      "text/plain": [
       "[1] 8811   12"
      ]
     },
     "metadata": {},
     "output_type": "display_data"
    }
   ],
   "source": [
    "dim(netflix_titles) # to obtain its dimensions"
   ]
  },
  {
   "cell_type": "code",
   "execution_count": 4,
   "id": "37047e9c",
   "metadata": {
    "vscode": {
     "languageId": "r"
    }
   },
   "outputs": [
    {
     "name": "stdout",
     "output_type": "stream",
     "text": [
      "'data.frame':\t8811 obs. of  12 variables:\n",
      " $ show_id     : chr  \"s1\" \"s2\" \"s3\" \"s4\" ...\n",
      " $ type        : chr  \"Movie\" \"TV Show\" \"TV Show\" \"TV Show\" ...\n",
      " $ title       : chr  \"Dick Johnson Is Dead\" \"Blood & Water\" \"Ganglands\" \"Jailbirds New Orleans\" ...\n",
      " $ director    : chr  \"Kirsten Johnson\" \"\" \"Julien Leclercq\" \"\" ...\n",
      " $ cast        : chr  \"\" \"Ama Qamata, Khosi Ngema, Gail Mabalane, Thabang Molaba, Dillon Windvogel, Natasha Thahane, Arno Greeff, Xolile \"| __truncated__ \"Sami Bouajila, Tracy Gotoas, Samuel Jouy, Nabiha Akkari, Sofia Lesaffre, Salim Kechiouche, Noureddine Farihi, G\"| __truncated__ \"\" ...\n",
      " $ country     : chr  \"United States\" \"South Africa\" \"\" \"\" ...\n",
      " $ date_added  : chr  \"September 25, 2021\" \"September 24, 2021\" \"September 24, 2021\" \"September 24, 2021\" ...\n",
      " $ release_year: chr  \"2020\" \"2021\" \"2021\" \"2021\" ...\n",
      " $ rating      : chr  \"PG-13\" \"TV-MA\" \"TV-MA\" \"TV-MA\" ...\n",
      " $ duration    : chr  \"90 min\" \"2 Seasons\" \"1 Season\" \"1 Season\" ...\n",
      " $ listed_in   : chr  \"Documentaries\" \"International TV Shows, TV Dramas, TV Mysteries\" \"Crime TV Shows, International TV Shows, TV Action & Adventure\" \"Docuseries, Reality TV\" ...\n",
      " $ description : chr  \"As her father nears the end of his life, filmmaker Kirsten Johnson stages his death in inventive and comical wa\"| __truncated__ \"After crossing paths at a party, a Cape Town teen sets out to prove whether a private-school swimming star is h\"| __truncated__ \"To protect his family from a powerful drug lord, skilled thief Mehdi and his expert team of robbers are pulled \"| __truncated__ \"Feuds, flirtations and toilet talk go down among the incarcerated women at the Orleans Justice Center in New Or\"| __truncated__ ...\n"
     ]
    }
   ],
   "source": [
    "str(netflix_titles) # to see its internal structure"
   ]
  },
  {
   "cell_type": "code",
   "execution_count": 5,
   "id": "f4cbad7f",
   "metadata": {
    "vscode": {
     "languageId": "r"
    }
   },
   "outputs": [
    {
     "data": {
      "text/html": [
       "<table class=\"dataframe\">\n",
       "<caption>A data.frame: 6 × 12</caption>\n",
       "<thead>\n",
       "\t<tr><th></th><th scope=col>show_id</th><th scope=col>type</th><th scope=col>title</th><th scope=col>director</th><th scope=col>cast</th><th scope=col>country</th><th scope=col>date_added</th><th scope=col>release_year</th><th scope=col>rating</th><th scope=col>duration</th><th scope=col>listed_in</th><th scope=col>description</th></tr>\n",
       "\t<tr><th></th><th scope=col>&lt;chr&gt;</th><th scope=col>&lt;chr&gt;</th><th scope=col>&lt;chr&gt;</th><th scope=col>&lt;chr&gt;</th><th scope=col>&lt;chr&gt;</th><th scope=col>&lt;chr&gt;</th><th scope=col>&lt;chr&gt;</th><th scope=col>&lt;chr&gt;</th><th scope=col>&lt;chr&gt;</th><th scope=col>&lt;chr&gt;</th><th scope=col>&lt;chr&gt;</th><th scope=col>&lt;chr&gt;</th></tr>\n",
       "</thead>\n",
       "<tbody>\n",
       "\t<tr><th scope=row>1</th><td>s1</td><td>Movie  </td><td>Dick Johnson Is Dead </td><td>Kirsten Johnson</td><td>                                                                                                                                                                                                                                                                                                               </td><td>United States</td><td>September 25, 2021</td><td>2020</td><td>PG-13</td><td>90 min   </td><td>Documentaries                                                </td><td>As her father nears the end of his life, filmmaker Kirsten Johnson stages his death in inventive and comical ways to help them both face the inevitable.</td></tr>\n",
       "\t<tr><th scope=row>2</th><td>s2</td><td>TV Show</td><td><span style=white-space:pre-wrap>Blood &amp; Water        </span></td><td><span style=white-space:pre-wrap>               </span></td><td>Ama Qamata, Khosi Ngema, Gail Mabalane, Thabang Molaba, Dillon Windvogel, Natasha Thahane, Arno Greeff, Xolile Tshabalala, Getmore Sithole, Cindy Mahlangu, Ryle De Morny, Greteli Fincham, Sello Maake Ka-Ncube, Odwa Gwanya, Mekaila Mathys, Sandi Schultz, Duane Williams, Shamilla Miller, Patrick Mofokeng</td><td>South Africa </td><td>September 24, 2021</td><td>2021</td><td>TV-MA</td><td>2 Seasons</td><td><span style=white-space:pre-wrap>International TV Shows, TV Dramas, TV Mysteries              </span></td><td><span style=white-space:pre-wrap>After crossing paths at a party, a Cape Town teen sets out to prove whether a private-school swimming star is her sister who was abducted at birth.     </span></td></tr>\n",
       "\t<tr><th scope=row>3</th><td>s3</td><td>TV Show</td><td><span style=white-space:pre-wrap>Ganglands            </span></td><td>Julien Leclercq</td><td><span style=white-space:pre-wrap>Sami Bouajila, Tracy Gotoas, Samuel Jouy, Nabiha Akkari, Sofia Lesaffre, Salim Kechiouche, Noureddine Farihi, Geert Van Rampelberg, Bakary Diombera                                                                                                                                                            </span></td><td><span style=white-space:pre-wrap>             </span></td><td>September 24, 2021</td><td>2021</td><td>TV-MA</td><td>1 Season </td><td>Crime TV Shows, International TV Shows, TV Action &amp; Adventure</td><td><span style=white-space:pre-wrap>To protect his family from a powerful drug lord, skilled thief Mehdi and his expert team of robbers are pulled into a violent and deadly turf war.      </span></td></tr>\n",
       "\t<tr><th scope=row>4</th><td>s4</td><td>TV Show</td><td>Jailbirds New Orleans</td><td>               </td><td>                                                                                                                                                                                                                                                                                                               </td><td>             </td><td>September 24, 2021</td><td>2021</td><td>TV-MA</td><td>1 Season </td><td>Docuseries, Reality TV                                       </td><td>Feuds, flirtations and toilet talk go down among the incarcerated women at the Orleans Justice Center in New Orleans on this gritty reality series.     </td></tr>\n",
       "\t<tr><th scope=row>5</th><td>s5</td><td>TV Show</td><td>Kota Factory         </td><td>               </td><td>Mayur More, Jitendra Kumar, Ranjan Raj, Alam Khan, Ahsaas Channa, Revathi Pillai, Urvi Singh, Arun Kumar                                                                                                                                                                                                       </td><td>India        </td><td>September 24, 2021</td><td>2021</td><td>TV-MA</td><td>2 Seasons</td><td>International TV Shows, Romantic TV Shows, TV Comedies       </td><td>In a city of coaching centers known to train India’s finest collegiate minds, an earnest but unexceptional student and his friends navigate campus life.</td></tr>\n",
       "\t<tr><th scope=row>6</th><td>s6</td><td>TV Show</td><td>Midnight Mass        </td><td>Mike Flanagan  </td><td>Kate Siegel, Zach Gilford, Hamish Linklater, Henry Thomas, Kristin Lehman, Samantha Sloyan, Igby Rigney, Rahul Kohli, Annarah Cymone, Annabeth Gish, Alex Essoe, Rahul Abburi, Matt Biedel, Michael Trucco, Crystal Balint, Louis Oliver                                                                       </td><td>             </td><td>September 24, 2021</td><td>2021</td><td>TV-MA</td><td>1 Season </td><td>TV Dramas, TV Horror, TV Mysteries                           </td><td>The arrival of a charismatic young priest brings glorious miracles, ominous mysteries and renewed religious fervor to a dying town desperate to believe.</td></tr>\n",
       "</tbody>\n",
       "</table>\n"
      ],
      "text/latex": [
       "A data.frame: 6 × 12\n",
       "\\begin{tabular}{r|llllllllllll}\n",
       "  & show\\_id & type & title & director & cast & country & date\\_added & release\\_year & rating & duration & listed\\_in & description\\\\\n",
       "  & <chr> & <chr> & <chr> & <chr> & <chr> & <chr> & <chr> & <chr> & <chr> & <chr> & <chr> & <chr>\\\\\n",
       "\\hline\n",
       "\t1 & s1 & Movie   & Dick Johnson Is Dead  & Kirsten Johnson &                                                                                                                                                                                                                                                                                                                 & United States & September 25, 2021 & 2020 & PG-13 & 90 min    & Documentaries                                                 & As her father nears the end of his life, filmmaker Kirsten Johnson stages his death in inventive and comical ways to help them both face the inevitable.\\\\\n",
       "\t2 & s2 & TV Show & Blood \\& Water         &                 & Ama Qamata, Khosi Ngema, Gail Mabalane, Thabang Molaba, Dillon Windvogel, Natasha Thahane, Arno Greeff, Xolile Tshabalala, Getmore Sithole, Cindy Mahlangu, Ryle De Morny, Greteli Fincham, Sello Maake Ka-Ncube, Odwa Gwanya, Mekaila Mathys, Sandi Schultz, Duane Williams, Shamilla Miller, Patrick Mofokeng & South Africa  & September 24, 2021 & 2021 & TV-MA & 2 Seasons & International TV Shows, TV Dramas, TV Mysteries               & After crossing paths at a party, a Cape Town teen sets out to prove whether a private-school swimming star is her sister who was abducted at birth.     \\\\\n",
       "\t3 & s3 & TV Show & Ganglands             & Julien Leclercq & Sami Bouajila, Tracy Gotoas, Samuel Jouy, Nabiha Akkari, Sofia Lesaffre, Salim Kechiouche, Noureddine Farihi, Geert Van Rampelberg, Bakary Diombera                                                                                                                                                             &               & September 24, 2021 & 2021 & TV-MA & 1 Season  & Crime TV Shows, International TV Shows, TV Action \\& Adventure & To protect his family from a powerful drug lord, skilled thief Mehdi and his expert team of robbers are pulled into a violent and deadly turf war.      \\\\\n",
       "\t4 & s4 & TV Show & Jailbirds New Orleans &                 &                                                                                                                                                                                                                                                                                                                 &               & September 24, 2021 & 2021 & TV-MA & 1 Season  & Docuseries, Reality TV                                        & Feuds, flirtations and toilet talk go down among the incarcerated women at the Orleans Justice Center in New Orleans on this gritty reality series.     \\\\\n",
       "\t5 & s5 & TV Show & Kota Factory          &                 & Mayur More, Jitendra Kumar, Ranjan Raj, Alam Khan, Ahsaas Channa, Revathi Pillai, Urvi Singh, Arun Kumar                                                                                                                                                                                                        & India         & September 24, 2021 & 2021 & TV-MA & 2 Seasons & International TV Shows, Romantic TV Shows, TV Comedies        & In a city of coaching centers known to train India’s finest collegiate minds, an earnest but unexceptional student and his friends navigate campus life.\\\\\n",
       "\t6 & s6 & TV Show & Midnight Mass         & Mike Flanagan   & Kate Siegel, Zach Gilford, Hamish Linklater, Henry Thomas, Kristin Lehman, Samantha Sloyan, Igby Rigney, Rahul Kohli, Annarah Cymone, Annabeth Gish, Alex Essoe, Rahul Abburi, Matt Biedel, Michael Trucco, Crystal Balint, Louis Oliver                                                                        &               & September 24, 2021 & 2021 & TV-MA & 1 Season  & TV Dramas, TV Horror, TV Mysteries                            & The arrival of a charismatic young priest brings glorious miracles, ominous mysteries and renewed religious fervor to a dying town desperate to believe.\\\\\n",
       "\\end{tabular}\n"
      ],
      "text/markdown": [
       "\n",
       "A data.frame: 6 × 12\n",
       "\n",
       "| <!--/--> | show_id &lt;chr&gt; | type &lt;chr&gt; | title &lt;chr&gt; | director &lt;chr&gt; | cast &lt;chr&gt; | country &lt;chr&gt; | date_added &lt;chr&gt; | release_year &lt;chr&gt; | rating &lt;chr&gt; | duration &lt;chr&gt; | listed_in &lt;chr&gt; | description &lt;chr&gt; |\n",
       "|---|---|---|---|---|---|---|---|---|---|---|---|---|\n",
       "| 1 | s1 | Movie   | Dick Johnson Is Dead  | Kirsten Johnson | <!----> | United States | September 25, 2021 | 2020 | PG-13 | 90 min    | Documentaries                                                 | As her father nears the end of his life, filmmaker Kirsten Johnson stages his death in inventive and comical ways to help them both face the inevitable. |\n",
       "| 2 | s2 | TV Show | Blood &amp; Water         | <!----> | Ama Qamata, Khosi Ngema, Gail Mabalane, Thabang Molaba, Dillon Windvogel, Natasha Thahane, Arno Greeff, Xolile Tshabalala, Getmore Sithole, Cindy Mahlangu, Ryle De Morny, Greteli Fincham, Sello Maake Ka-Ncube, Odwa Gwanya, Mekaila Mathys, Sandi Schultz, Duane Williams, Shamilla Miller, Patrick Mofokeng | South Africa  | September 24, 2021 | 2021 | TV-MA | 2 Seasons | International TV Shows, TV Dramas, TV Mysteries               | After crossing paths at a party, a Cape Town teen sets out to prove whether a private-school swimming star is her sister who was abducted at birth.      |\n",
       "| 3 | s3 | TV Show | Ganglands             | Julien Leclercq | Sami Bouajila, Tracy Gotoas, Samuel Jouy, Nabiha Akkari, Sofia Lesaffre, Salim Kechiouche, Noureddine Farihi, Geert Van Rampelberg, Bakary Diombera                                                                                                                                                             | <!----> | September 24, 2021 | 2021 | TV-MA | 1 Season  | Crime TV Shows, International TV Shows, TV Action &amp; Adventure | To protect his family from a powerful drug lord, skilled thief Mehdi and his expert team of robbers are pulled into a violent and deadly turf war.       |\n",
       "| 4 | s4 | TV Show | Jailbirds New Orleans | <!----> | <!----> | <!----> | September 24, 2021 | 2021 | TV-MA | 1 Season  | Docuseries, Reality TV                                        | Feuds, flirtations and toilet talk go down among the incarcerated women at the Orleans Justice Center in New Orleans on this gritty reality series.      |\n",
       "| 5 | s5 | TV Show | Kota Factory          | <!----> | Mayur More, Jitendra Kumar, Ranjan Raj, Alam Khan, Ahsaas Channa, Revathi Pillai, Urvi Singh, Arun Kumar                                                                                                                                                                                                        | India         | September 24, 2021 | 2021 | TV-MA | 2 Seasons | International TV Shows, Romantic TV Shows, TV Comedies        | In a city of coaching centers known to train India’s finest collegiate minds, an earnest but unexceptional student and his friends navigate campus life. |\n",
       "| 6 | s6 | TV Show | Midnight Mass         | Mike Flanagan   | Kate Siegel, Zach Gilford, Hamish Linklater, Henry Thomas, Kristin Lehman, Samantha Sloyan, Igby Rigney, Rahul Kohli, Annarah Cymone, Annabeth Gish, Alex Essoe, Rahul Abburi, Matt Biedel, Michael Trucco, Crystal Balint, Louis Oliver                                                                        | <!----> | September 24, 2021 | 2021 | TV-MA | 1 Season  | TV Dramas, TV Horror, TV Mysteries                            | The arrival of a charismatic young priest brings glorious miracles, ominous mysteries and renewed religious fervor to a dying town desperate to believe. |\n",
       "\n"
      ],
      "text/plain": [
       "  show_id type    title                 director       \n",
       "1 s1      Movie   Dick Johnson Is Dead  Kirsten Johnson\n",
       "2 s2      TV Show Blood & Water                        \n",
       "3 s3      TV Show Ganglands             Julien Leclercq\n",
       "4 s4      TV Show Jailbirds New Orleans                \n",
       "5 s5      TV Show Kota Factory                         \n",
       "6 s6      TV Show Midnight Mass         Mike Flanagan  \n",
       "  cast                                                                                                                                                                                                                                                                                                           \n",
       "1                                                                                                                                                                                                                                                                                                                \n",
       "2 Ama Qamata, Khosi Ngema, Gail Mabalane, Thabang Molaba, Dillon Windvogel, Natasha Thahane, Arno Greeff, Xolile Tshabalala, Getmore Sithole, Cindy Mahlangu, Ryle De Morny, Greteli Fincham, Sello Maake Ka-Ncube, Odwa Gwanya, Mekaila Mathys, Sandi Schultz, Duane Williams, Shamilla Miller, Patrick Mofokeng\n",
       "3 Sami Bouajila, Tracy Gotoas, Samuel Jouy, Nabiha Akkari, Sofia Lesaffre, Salim Kechiouche, Noureddine Farihi, Geert Van Rampelberg, Bakary Diombera                                                                                                                                                            \n",
       "4                                                                                                                                                                                                                                                                                                                \n",
       "5 Mayur More, Jitendra Kumar, Ranjan Raj, Alam Khan, Ahsaas Channa, Revathi Pillai, Urvi Singh, Arun Kumar                                                                                                                                                                                                       \n",
       "6 Kate Siegel, Zach Gilford, Hamish Linklater, Henry Thomas, Kristin Lehman, Samantha Sloyan, Igby Rigney, Rahul Kohli, Annarah Cymone, Annabeth Gish, Alex Essoe, Rahul Abburi, Matt Biedel, Michael Trucco, Crystal Balint, Louis Oliver                                                                       \n",
       "  country       date_added         release_year rating duration \n",
       "1 United States September 25, 2021 2020         PG-13  90 min   \n",
       "2 South Africa  September 24, 2021 2021         TV-MA  2 Seasons\n",
       "3               September 24, 2021 2021         TV-MA  1 Season \n",
       "4               September 24, 2021 2021         TV-MA  1 Season \n",
       "5 India         September 24, 2021 2021         TV-MA  2 Seasons\n",
       "6               September 24, 2021 2021         TV-MA  1 Season \n",
       "  listed_in                                                    \n",
       "1 Documentaries                                                \n",
       "2 International TV Shows, TV Dramas, TV Mysteries              \n",
       "3 Crime TV Shows, International TV Shows, TV Action & Adventure\n",
       "4 Docuseries, Reality TV                                       \n",
       "5 International TV Shows, Romantic TV Shows, TV Comedies       \n",
       "6 TV Dramas, TV Horror, TV Mysteries                           \n",
       "  description                                                                                                                                             \n",
       "1 As her father nears the end of his life, filmmaker Kirsten Johnson stages his death in inventive and comical ways to help them both face the inevitable.\n",
       "2 After crossing paths at a party, a Cape Town teen sets out to prove whether a private-school swimming star is her sister who was abducted at birth.     \n",
       "3 To protect his family from a powerful drug lord, skilled thief Mehdi and his expert team of robbers are pulled into a violent and deadly turf war.      \n",
       "4 Feuds, flirtations and toilet talk go down among the incarcerated women at the Orleans Justice Center in New Orleans on this gritty reality series.     \n",
       "5 In a city of coaching centers known to train India’s finest collegiate minds, an earnest but unexceptional student and his friends navigate campus life.\n",
       "6 The arrival of a charismatic young priest brings glorious miracles, ominous mysteries and renewed religious fervor to a dying town desperate to believe."
      ]
     },
     "metadata": {},
     "output_type": "display_data"
    }
   ],
   "source": [
    "head(netflix_titles) # to view its first six rows"
   ]
  },
  {
   "cell_type": "markdown",
   "id": "72dc3ae7",
   "metadata": {},
   "source": [
    "### Removing Unwanted Columns"
   ]
  },
  {
   "cell_type": "code",
   "execution_count": 6,
   "id": "3951744e",
   "metadata": {
    "vscode": {
     "languageId": "r"
    }
   },
   "outputs": [],
   "source": [
    "netflix_titles$show_id <- NULL\n",
    "netflix_titles$description <- NULL\n",
    "netflix_titles$date_added <- NULL"
   ]
  },
  {
   "cell_type": "code",
   "execution_count": 7,
   "id": "63d29506",
   "metadata": {
    "vscode": {
     "languageId": "r"
    }
   },
   "outputs": [
    {
     "data": {
      "text/html": [
       "<style>\n",
       ".list-inline {list-style: none; margin:0; padding: 0}\n",
       ".list-inline>li {display: inline-block}\n",
       ".list-inline>li:not(:last-child)::after {content: \"\\00b7\"; padding: 0 .5ex}\n",
       "</style>\n",
       "<ol class=list-inline><li>'type'</li><li>'title'</li><li>'director'</li><li>'cast'</li><li>'country'</li><li>'release_year'</li><li>'rating'</li><li>'duration'</li><li>'listed_in'</li></ol>\n"
      ],
      "text/latex": [
       "\\begin{enumerate*}\n",
       "\\item 'type'\n",
       "\\item 'title'\n",
       "\\item 'director'\n",
       "\\item 'cast'\n",
       "\\item 'country'\n",
       "\\item 'release\\_year'\n",
       "\\item 'rating'\n",
       "\\item 'duration'\n",
       "\\item 'listed\\_in'\n",
       "\\end{enumerate*}\n"
      ],
      "text/markdown": [
       "1. 'type'\n",
       "2. 'title'\n",
       "3. 'director'\n",
       "4. 'cast'\n",
       "5. 'country'\n",
       "6. 'release_year'\n",
       "7. 'rating'\n",
       "8. 'duration'\n",
       "9. 'listed_in'\n",
       "\n",
       "\n"
      ],
      "text/plain": [
       "[1] \"type\"         \"title\"        \"director\"     \"cast\"         \"country\"     \n",
       "[6] \"release_year\" \"rating\"       \"duration\"     \"listed_in\"   "
      ]
     },
     "metadata": {},
     "output_type": "display_data"
    }
   ],
   "source": [
    "names(netflix_titles)"
   ]
  },
  {
   "cell_type": "markdown",
   "id": "cc43f07d",
   "metadata": {},
   "source": [
    "#### Rearrancing Columns"
   ]
  },
  {
   "cell_type": "code",
   "execution_count": 8,
   "id": "9dc51a71",
   "metadata": {
    "vscode": {
     "languageId": "r"
    }
   },
   "outputs": [],
   "source": [
    "netflix_titles <- netflix_titles[,c(\"title\",\"type\",\"release_year\", \"country\", \"director\",\"cast\", \"duration\", \"rating\",\"listed_in\")]"
   ]
  },
  {
   "cell_type": "code",
   "execution_count": 9,
   "id": "750abca0",
   "metadata": {
    "vscode": {
     "languageId": "r"
    }
   },
   "outputs": [
    {
     "data": {
      "text/html": [
       "<style>\n",
       ".list-inline {list-style: none; margin:0; padding: 0}\n",
       ".list-inline>li {display: inline-block}\n",
       ".list-inline>li:not(:last-child)::after {content: \"\\00b7\"; padding: 0 .5ex}\n",
       "</style>\n",
       "<ol class=list-inline><li>'title'</li><li>'type'</li><li>'release_year'</li><li>'country'</li><li>'director'</li><li>'cast'</li><li>'duration'</li><li>'rating'</li><li>'listed_in'</li></ol>\n"
      ],
      "text/latex": [
       "\\begin{enumerate*}\n",
       "\\item 'title'\n",
       "\\item 'type'\n",
       "\\item 'release\\_year'\n",
       "\\item 'country'\n",
       "\\item 'director'\n",
       "\\item 'cast'\n",
       "\\item 'duration'\n",
       "\\item 'rating'\n",
       "\\item 'listed\\_in'\n",
       "\\end{enumerate*}\n"
      ],
      "text/markdown": [
       "1. 'title'\n",
       "2. 'type'\n",
       "3. 'release_year'\n",
       "4. 'country'\n",
       "5. 'director'\n",
       "6. 'cast'\n",
       "7. 'duration'\n",
       "8. 'rating'\n",
       "9. 'listed_in'\n",
       "\n",
       "\n"
      ],
      "text/plain": [
       "[1] \"title\"        \"type\"         \"release_year\" \"country\"      \"director\"    \n",
       "[6] \"cast\"         \"duration\"     \"rating\"       \"listed_in\"   "
      ]
     },
     "metadata": {},
     "output_type": "display_data"
    }
   ],
   "source": [
    "names(netflix_titles)"
   ]
  },
  {
   "cell_type": "markdown",
   "id": "5e7a7747",
   "metadata": {},
   "source": [
    "### Detection of Duplicate Record"
   ]
  },
  {
   "cell_type": "code",
   "execution_count": 10,
   "id": "e4242274",
   "metadata": {
    "vscode": {
     "languageId": "r"
    }
   },
   "outputs": [
    {
     "data": {
      "text/html": [
       "3"
      ],
      "text/latex": [
       "3"
      ],
      "text/markdown": [
       "3"
      ],
      "text/plain": [
       "[1] 3"
      ]
     },
     "metadata": {},
     "output_type": "display_data"
    }
   ],
   "source": [
    "sum(duplicated(netflix_titles))"
   ]
  },
  {
   "cell_type": "code",
   "execution_count": 11,
   "id": "955b5f23",
   "metadata": {
    "vscode": {
     "languageId": "r"
    }
   },
   "outputs": [],
   "source": [
    "netflix_titles <- netflix_titles %>% distinct() # función de la librería dplyr para borrar duplicados"
   ]
  },
  {
   "cell_type": "code",
   "execution_count": 12,
   "id": "7b4b12ff",
   "metadata": {
    "vscode": {
     "languageId": "r"
    }
   },
   "outputs": [
    {
     "data": {
      "text/html": [
       "0"
      ],
      "text/latex": [
       "0"
      ],
      "text/markdown": [
       "0"
      ],
      "text/plain": [
       "[1] 0"
      ]
     },
     "metadata": {},
     "output_type": "display_data"
    }
   ],
   "source": [
    "sum(duplicated(netflix_titles))"
   ]
  },
  {
   "cell_type": "markdown",
   "id": "e05e99dd",
   "metadata": {},
   "source": [
    "### Checking Missing Values"
   ]
  },
  {
   "cell_type": "code",
   "execution_count": null,
   "id": "03922768",
   "metadata": {
    "vscode": {
     "languageId": "r"
    }
   },
   "outputs": [],
   "source": [
    "# Convertir todas las cadenas vacías en NA para todo el dataframe\n",
    "netflix_titles <- netflix_titles %>% \n",
    "  mutate(across(everything(), na_if, \"\"))"
   ]
  },
  {
   "cell_type": "code",
   "execution_count": 14,
   "id": "486846c3",
   "metadata": {
    "vscode": {
     "languageId": "r"
    }
   },
   "outputs": [
    {
     "data": {
      "text/html": [
       "TRUE"
      ],
      "text/latex": [
       "TRUE"
      ],
      "text/markdown": [
       "TRUE"
      ],
      "text/plain": [
       "[1] TRUE"
      ]
     },
     "metadata": {},
     "output_type": "display_data"
    }
   ],
   "source": [
    "missing_values <- any(is.na(netflix_titles))\n",
    "missing_values"
   ]
  },
  {
   "cell_type": "code",
   "execution_count": 15,
   "id": "63c31cdf",
   "metadata": {
    "vscode": {
     "languageId": "r"
    }
   },
   "outputs": [
    {
     "data": {
      "text/html": [
       "<table class=\"dataframe\">\n",
       "<caption>A data.frame: 1 × 9</caption>\n",
       "<thead>\n",
       "\t<tr><th scope=col>title</th><th scope=col>type</th><th scope=col>release_year</th><th scope=col>country</th><th scope=col>director</th><th scope=col>cast</th><th scope=col>duration</th><th scope=col>rating</th><th scope=col>listed_in</th></tr>\n",
       "\t<tr><th scope=col>&lt;int&gt;</th><th scope=col>&lt;int&gt;</th><th scope=col>&lt;int&gt;</th><th scope=col>&lt;int&gt;</th><th scope=col>&lt;int&gt;</th><th scope=col>&lt;int&gt;</th><th scope=col>&lt;int&gt;</th><th scope=col>&lt;int&gt;</th><th scope=col>&lt;int&gt;</th></tr>\n",
       "</thead>\n",
       "<tbody>\n",
       "\t<tr><td>2</td><td>1</td><td>2</td><td>832</td><td>2635</td><td>826</td><td>5</td><td>6</td><td>3</td></tr>\n",
       "</tbody>\n",
       "</table>\n"
      ],
      "text/latex": [
       "A data.frame: 1 × 9\n",
       "\\begin{tabular}{lllllllll}\n",
       " title & type & release\\_year & country & director & cast & duration & rating & listed\\_in\\\\\n",
       " <int> & <int> & <int> & <int> & <int> & <int> & <int> & <int> & <int>\\\\\n",
       "\\hline\n",
       "\t 2 & 1 & 2 & 832 & 2635 & 826 & 5 & 6 & 3\\\\\n",
       "\\end{tabular}\n"
      ],
      "text/markdown": [
       "\n",
       "A data.frame: 1 × 9\n",
       "\n",
       "| title &lt;int&gt; | type &lt;int&gt; | release_year &lt;int&gt; | country &lt;int&gt; | director &lt;int&gt; | cast &lt;int&gt; | duration &lt;int&gt; | rating &lt;int&gt; | listed_in &lt;int&gt; |\n",
       "|---|---|---|---|---|---|---|---|---|\n",
       "| 2 | 1 | 2 | 832 | 2635 | 826 | 5 | 6 | 3 |\n",
       "\n"
      ],
      "text/plain": [
       "  title type release_year country director cast duration rating listed_in\n",
       "1 2     1    2            832     2635     826  5        6      3        "
      ]
     },
     "metadata": {},
     "output_type": "display_data"
    }
   ],
   "source": [
    "# Contar valores faltantes en cada columna\n",
    "netflix_titles %>%\n",
    "  summarise(across(everything(), ~sum(is.na(.))))"
   ]
  },
  {
   "cell_type": "markdown",
   "id": "5f810bd4",
   "metadata": {},
   "source": [
    "#### Fixing Missing Values"
   ]
  },
  {
   "cell_type": "code",
   "execution_count": 18,
   "id": "48f2712f",
   "metadata": {
    "vscode": {
     "languageId": "r"
    }
   },
   "outputs": [],
   "source": [
    "netflix_titles$title[is.na(netflix_titles$title)] <- \"Unknown title\"\n",
    "netflix_titles$type[is.na(netflix_titles$type)] <- \"Unknown type\"\n",
    "netflix_titles$release_year[is.na(netflix_titles$release_year)] <- \"Unknown year\"\n",
    "netflix_titles$country[is.na(netflix_titles$country)] <- \"Unknown country\"\n",
    "netflix_titles$director[is.na(netflix_titles$director)] <- \"Unknown director\"\n",
    "netflix_titles$cast[is.na(netflix_titles$cast)] <- \"Unknown cast\"\n",
    "netflix_titles$duration[is.na(netflix_titles$duration)] <- \"Unknown duration\"\n",
    "netflix_titles$rating[is.na(netflix_titles$rating)] <- \"Unknown rating\"\n",
    "netflix_titles$listed_in[is.na(netflix_titles$listed_in)] <- \"Unknown list\""
   ]
  },
  {
   "cell_type": "code",
   "execution_count": 19,
   "id": "2ac2c705",
   "metadata": {
    "vscode": {
     "languageId": "r"
    }
   },
   "outputs": [
    {
     "data": {
      "text/html": [
       "<table class=\"dataframe\">\n",
       "<caption>A data.frame: 1 × 9</caption>\n",
       "<thead>\n",
       "\t<tr><th scope=col>title</th><th scope=col>type</th><th scope=col>release_year</th><th scope=col>country</th><th scope=col>director</th><th scope=col>cast</th><th scope=col>duration</th><th scope=col>rating</th><th scope=col>listed_in</th></tr>\n",
       "\t<tr><th scope=col>&lt;int&gt;</th><th scope=col>&lt;int&gt;</th><th scope=col>&lt;int&gt;</th><th scope=col>&lt;int&gt;</th><th scope=col>&lt;int&gt;</th><th scope=col>&lt;int&gt;</th><th scope=col>&lt;int&gt;</th><th scope=col>&lt;int&gt;</th><th scope=col>&lt;int&gt;</th></tr>\n",
       "</thead>\n",
       "<tbody>\n",
       "\t<tr><td>0</td><td>0</td><td>0</td><td>0</td><td>0</td><td>0</td><td>0</td><td>0</td><td>0</td></tr>\n",
       "</tbody>\n",
       "</table>\n"
      ],
      "text/latex": [
       "A data.frame: 1 × 9\n",
       "\\begin{tabular}{lllllllll}\n",
       " title & type & release\\_year & country & director & cast & duration & rating & listed\\_in\\\\\n",
       " <int> & <int> & <int> & <int> & <int> & <int> & <int> & <int> & <int>\\\\\n",
       "\\hline\n",
       "\t 0 & 0 & 0 & 0 & 0 & 0 & 0 & 0 & 0\\\\\n",
       "\\end{tabular}\n"
      ],
      "text/markdown": [
       "\n",
       "A data.frame: 1 × 9\n",
       "\n",
       "| title &lt;int&gt; | type &lt;int&gt; | release_year &lt;int&gt; | country &lt;int&gt; | director &lt;int&gt; | cast &lt;int&gt; | duration &lt;int&gt; | rating &lt;int&gt; | listed_in &lt;int&gt; |\n",
       "|---|---|---|---|---|---|---|---|---|\n",
       "| 0 | 0 | 0 | 0 | 0 | 0 | 0 | 0 | 0 |\n",
       "\n"
      ],
      "text/plain": [
       "  title type release_year country director cast duration rating listed_in\n",
       "1 0     0    0            0       0        0    0        0      0        "
      ]
     },
     "metadata": {},
     "output_type": "display_data"
    }
   ],
   "source": [
    "netflix_titles %>%\n",
    "  summarise(across(everything(), ~sum(is.na(.))))"
   ]
  },
  {
   "cell_type": "markdown",
   "id": "1fc6851f",
   "metadata": {},
   "source": [
    "### Changing Data Type of Columns"
   ]
  },
  {
   "cell_type": "code",
   "execution_count": 20,
   "id": "ef7c587d",
   "metadata": {
    "vscode": {
     "languageId": "r"
    }
   },
   "outputs": [
    {
     "name": "stderr",
     "output_type": "stream",
     "text": [
      "Warning message in eval(expr, envir, enclos):\n",
      "\"NAs introducidos por coerción\"\n"
     ]
    },
    {
     "name": "stdout",
     "output_type": "stream",
     "text": [
      " num [1:8808] 2020 2021 2021 2021 2021 ...\n"
     ]
    }
   ],
   "source": [
    "netflix_titles$release_year <- as.numeric(netflix_titles$release_year)\n",
    "str(netflix_titles$release_year) # \"Unknow year\" pasa a ser NA de nuevo"
   ]
  },
  {
   "cell_type": "code",
   "execution_count": 21,
   "id": "fa96de00",
   "metadata": {
    "vscode": {
     "languageId": "r"
    }
   },
   "outputs": [
    {
     "name": "stdout",
     "output_type": "stream",
     "text": [
      "'data.frame':\t8808 obs. of  9 variables:\n",
      " $ title       : chr  \"Dick Johnson Is Dead\" \"Blood & Water\" \"Ganglands\" \"Jailbirds New Orleans\" ...\n",
      " $ type        : chr  \"Movie\" \"TV Show\" \"TV Show\" \"TV Show\" ...\n",
      " $ release_year: num  2020 2021 2021 2021 2021 ...\n",
      " $ country     : chr  \"United States\" \"South Africa\" \"Unknown country\" \"Unknown country\" ...\n",
      " $ director    : chr  \"Kirsten Johnson\" \"Unknown director\" \"Julien Leclercq\" \"Unknown director\" ...\n",
      " $ cast        : chr  \"Unknown cast\" \"Ama Qamata, Khosi Ngema, Gail Mabalane, Thabang Molaba, Dillon Windvogel, Natasha Thahane, Arno Greeff, Xolile \"| __truncated__ \"Sami Bouajila, Tracy Gotoas, Samuel Jouy, Nabiha Akkari, Sofia Lesaffre, Salim Kechiouche, Noureddine Farihi, G\"| __truncated__ \"Unknown cast\" ...\n",
      " $ duration    : chr  \"90 min\" \"2 Seasons\" \"1 Season\" \"1 Season\" ...\n",
      " $ rating      : chr  \"PG-13\" \"TV-MA\" \"TV-MA\" \"TV-MA\" ...\n",
      " $ listed_in   : chr  \"Documentaries\" \"International TV Shows, TV Dramas, TV Mysteries\" \"Crime TV Shows, International TV Shows, TV Action & Adventure\" \"Docuseries, Reality TV\" ...\n"
     ]
    }
   ],
   "source": [
    "str(netflix_titles)"
   ]
  },
  {
   "cell_type": "markdown",
   "id": "18e42178",
   "metadata": {},
   "source": [
    "### Creating new column a partir de duration"
   ]
  },
  {
   "cell_type": "code",
   "execution_count": 22,
   "id": "34ff932c",
   "metadata": {
    "vscode": {
     "languageId": "r"
    }
   },
   "outputs": [],
   "source": [
    "# Crear dos nuevas columnas inicializadas con NA\n",
    "netflix_titles$duration_min <- NA\n",
    "netflix_titles$seasons <- NA\n",
    "\n",
    "# Para duraciones en minutos\n",
    "is_minutes <- grepl(\"min$\", netflix_titles$duration)\n",
    "netflix_titles$duration_min[is_minutes] <- as.numeric(gsub(\" min\", \"\", netflix_titles$duration[is_minutes]))\n",
    "\n",
    "# Para duraciones en temporadas\n",
    "is_seasons <- grepl(\"Seasons?$\", netflix_titles$duration)\n",
    "netflix_titles$seasons[is_seasons] <- as.numeric(gsub(\" Seasons?\", \"\", netflix_titles$duration[is_seasons]))"
   ]
  },
  {
   "cell_type": "code",
   "execution_count": 25,
   "id": "7b099f6a",
   "metadata": {
    "vscode": {
     "languageId": "r"
    }
   },
   "outputs": [
    {
     "data": {
      "text/html": [
       "<table class=\"dataframe\">\n",
       "<caption>A data.frame: 6 × 10</caption>\n",
       "<thead>\n",
       "\t<tr><th></th><th scope=col>title</th><th scope=col>type</th><th scope=col>release_year</th><th scope=col>country</th><th scope=col>director</th><th scope=col>cast</th><th scope=col>rating</th><th scope=col>listed_in</th><th scope=col>duration_min</th><th scope=col>seasons</th></tr>\n",
       "\t<tr><th></th><th scope=col>&lt;chr&gt;</th><th scope=col>&lt;chr&gt;</th><th scope=col>&lt;dbl&gt;</th><th scope=col>&lt;chr&gt;</th><th scope=col>&lt;chr&gt;</th><th scope=col>&lt;chr&gt;</th><th scope=col>&lt;chr&gt;</th><th scope=col>&lt;chr&gt;</th><th scope=col>&lt;dbl&gt;</th><th scope=col>&lt;dbl&gt;</th></tr>\n",
       "</thead>\n",
       "<tbody>\n",
       "\t<tr><th scope=row>1</th><td>Dick Johnson Is Dead </td><td>Movie  </td><td>2020</td><td>United States  </td><td>Kirsten Johnson </td><td>Unknown cast                                                                                                                                                                                                                                                                                                   </td><td>PG-13</td><td>Documentaries                                                </td><td>90</td><td>NA</td></tr>\n",
       "\t<tr><th scope=row>2</th><td><span style=white-space:pre-wrap>Blood &amp; Water        </span></td><td>TV Show</td><td>2021</td><td><span style=white-space:pre-wrap>South Africa   </span></td><td>Unknown director</td><td>Ama Qamata, Khosi Ngema, Gail Mabalane, Thabang Molaba, Dillon Windvogel, Natasha Thahane, Arno Greeff, Xolile Tshabalala, Getmore Sithole, Cindy Mahlangu, Ryle De Morny, Greteli Fincham, Sello Maake Ka-Ncube, Odwa Gwanya, Mekaila Mathys, Sandi Schultz, Duane Williams, Shamilla Miller, Patrick Mofokeng</td><td>TV-MA</td><td><span style=white-space:pre-wrap>International TV Shows, TV Dramas, TV Mysteries              </span></td><td>NA</td><td> 2</td></tr>\n",
       "\t<tr><th scope=row>3</th><td><span style=white-space:pre-wrap>Ganglands            </span></td><td>TV Show</td><td>2021</td><td>Unknown country</td><td>Julien Leclercq </td><td><span style=white-space:pre-wrap>Sami Bouajila, Tracy Gotoas, Samuel Jouy, Nabiha Akkari, Sofia Lesaffre, Salim Kechiouche, Noureddine Farihi, Geert Van Rampelberg, Bakary Diombera                                                                                                                                                            </span></td><td>TV-MA</td><td>Crime TV Shows, International TV Shows, TV Action &amp; Adventure</td><td>NA</td><td> 1</td></tr>\n",
       "\t<tr><th scope=row>4</th><td>Jailbirds New Orleans</td><td>TV Show</td><td>2021</td><td>Unknown country</td><td>Unknown director</td><td>Unknown cast                                                                                                                                                                                                                                                                                                   </td><td>TV-MA</td><td>Docuseries, Reality TV                                       </td><td>NA</td><td> 1</td></tr>\n",
       "\t<tr><th scope=row>5</th><td>Kota Factory         </td><td>TV Show</td><td>2021</td><td>India          </td><td>Unknown director</td><td>Mayur More, Jitendra Kumar, Ranjan Raj, Alam Khan, Ahsaas Channa, Revathi Pillai, Urvi Singh, Arun Kumar                                                                                                                                                                                                       </td><td>TV-MA</td><td>International TV Shows, Romantic TV Shows, TV Comedies       </td><td>NA</td><td> 2</td></tr>\n",
       "\t<tr><th scope=row>6</th><td>Midnight Mass        </td><td>TV Show</td><td>2021</td><td>Unknown country</td><td>Mike Flanagan   </td><td>Kate Siegel, Zach Gilford, Hamish Linklater, Henry Thomas, Kristin Lehman, Samantha Sloyan, Igby Rigney, Rahul Kohli, Annarah Cymone, Annabeth Gish, Alex Essoe, Rahul Abburi, Matt Biedel, Michael Trucco, Crystal Balint, Louis Oliver                                                                       </td><td>TV-MA</td><td>TV Dramas, TV Horror, TV Mysteries                           </td><td>NA</td><td> 1</td></tr>\n",
       "</tbody>\n",
       "</table>\n"
      ],
      "text/latex": [
       "A data.frame: 6 × 10\n",
       "\\begin{tabular}{r|llllllllll}\n",
       "  & title & type & release\\_year & country & director & cast & rating & listed\\_in & duration\\_min & seasons\\\\\n",
       "  & <chr> & <chr> & <dbl> & <chr> & <chr> & <chr> & <chr> & <chr> & <dbl> & <dbl>\\\\\n",
       "\\hline\n",
       "\t1 & Dick Johnson Is Dead  & Movie   & 2020 & United States   & Kirsten Johnson  & Unknown cast                                                                                                                                                                                                                                                                                                    & PG-13 & Documentaries                                                 & 90 & NA\\\\\n",
       "\t2 & Blood \\& Water         & TV Show & 2021 & South Africa    & Unknown director & Ama Qamata, Khosi Ngema, Gail Mabalane, Thabang Molaba, Dillon Windvogel, Natasha Thahane, Arno Greeff, Xolile Tshabalala, Getmore Sithole, Cindy Mahlangu, Ryle De Morny, Greteli Fincham, Sello Maake Ka-Ncube, Odwa Gwanya, Mekaila Mathys, Sandi Schultz, Duane Williams, Shamilla Miller, Patrick Mofokeng & TV-MA & International TV Shows, TV Dramas, TV Mysteries               & NA &  2\\\\\n",
       "\t3 & Ganglands             & TV Show & 2021 & Unknown country & Julien Leclercq  & Sami Bouajila, Tracy Gotoas, Samuel Jouy, Nabiha Akkari, Sofia Lesaffre, Salim Kechiouche, Noureddine Farihi, Geert Van Rampelberg, Bakary Diombera                                                                                                                                                             & TV-MA & Crime TV Shows, International TV Shows, TV Action \\& Adventure & NA &  1\\\\\n",
       "\t4 & Jailbirds New Orleans & TV Show & 2021 & Unknown country & Unknown director & Unknown cast                                                                                                                                                                                                                                                                                                    & TV-MA & Docuseries, Reality TV                                        & NA &  1\\\\\n",
       "\t5 & Kota Factory          & TV Show & 2021 & India           & Unknown director & Mayur More, Jitendra Kumar, Ranjan Raj, Alam Khan, Ahsaas Channa, Revathi Pillai, Urvi Singh, Arun Kumar                                                                                                                                                                                                        & TV-MA & International TV Shows, Romantic TV Shows, TV Comedies        & NA &  2\\\\\n",
       "\t6 & Midnight Mass         & TV Show & 2021 & Unknown country & Mike Flanagan    & Kate Siegel, Zach Gilford, Hamish Linklater, Henry Thomas, Kristin Lehman, Samantha Sloyan, Igby Rigney, Rahul Kohli, Annarah Cymone, Annabeth Gish, Alex Essoe, Rahul Abburi, Matt Biedel, Michael Trucco, Crystal Balint, Louis Oliver                                                                        & TV-MA & TV Dramas, TV Horror, TV Mysteries                            & NA &  1\\\\\n",
       "\\end{tabular}\n"
      ],
      "text/markdown": [
       "\n",
       "A data.frame: 6 × 10\n",
       "\n",
       "| <!--/--> | title &lt;chr&gt; | type &lt;chr&gt; | release_year &lt;dbl&gt; | country &lt;chr&gt; | director &lt;chr&gt; | cast &lt;chr&gt; | rating &lt;chr&gt; | listed_in &lt;chr&gt; | duration_min &lt;dbl&gt; | seasons &lt;dbl&gt; |\n",
       "|---|---|---|---|---|---|---|---|---|---|---|\n",
       "| 1 | Dick Johnson Is Dead  | Movie   | 2020 | United States   | Kirsten Johnson  | Unknown cast                                                                                                                                                                                                                                                                                                    | PG-13 | Documentaries                                                 | 90 | NA |\n",
       "| 2 | Blood &amp; Water         | TV Show | 2021 | South Africa    | Unknown director | Ama Qamata, Khosi Ngema, Gail Mabalane, Thabang Molaba, Dillon Windvogel, Natasha Thahane, Arno Greeff, Xolile Tshabalala, Getmore Sithole, Cindy Mahlangu, Ryle De Morny, Greteli Fincham, Sello Maake Ka-Ncube, Odwa Gwanya, Mekaila Mathys, Sandi Schultz, Duane Williams, Shamilla Miller, Patrick Mofokeng | TV-MA | International TV Shows, TV Dramas, TV Mysteries               | NA |  2 |\n",
       "| 3 | Ganglands             | TV Show | 2021 | Unknown country | Julien Leclercq  | Sami Bouajila, Tracy Gotoas, Samuel Jouy, Nabiha Akkari, Sofia Lesaffre, Salim Kechiouche, Noureddine Farihi, Geert Van Rampelberg, Bakary Diombera                                                                                                                                                             | TV-MA | Crime TV Shows, International TV Shows, TV Action &amp; Adventure | NA |  1 |\n",
       "| 4 | Jailbirds New Orleans | TV Show | 2021 | Unknown country | Unknown director | Unknown cast                                                                                                                                                                                                                                                                                                    | TV-MA | Docuseries, Reality TV                                        | NA |  1 |\n",
       "| 5 | Kota Factory          | TV Show | 2021 | India           | Unknown director | Mayur More, Jitendra Kumar, Ranjan Raj, Alam Khan, Ahsaas Channa, Revathi Pillai, Urvi Singh, Arun Kumar                                                                                                                                                                                                        | TV-MA | International TV Shows, Romantic TV Shows, TV Comedies        | NA |  2 |\n",
       "| 6 | Midnight Mass         | TV Show | 2021 | Unknown country | Mike Flanagan    | Kate Siegel, Zach Gilford, Hamish Linklater, Henry Thomas, Kristin Lehman, Samantha Sloyan, Igby Rigney, Rahul Kohli, Annarah Cymone, Annabeth Gish, Alex Essoe, Rahul Abburi, Matt Biedel, Michael Trucco, Crystal Balint, Louis Oliver                                                                        | TV-MA | TV Dramas, TV Horror, TV Mysteries                            | NA |  1 |\n",
       "\n"
      ],
      "text/plain": [
       "  title                 type    release_year country         director        \n",
       "1 Dick Johnson Is Dead  Movie   2020         United States   Kirsten Johnson \n",
       "2 Blood & Water         TV Show 2021         South Africa    Unknown director\n",
       "3 Ganglands             TV Show 2021         Unknown country Julien Leclercq \n",
       "4 Jailbirds New Orleans TV Show 2021         Unknown country Unknown director\n",
       "5 Kota Factory          TV Show 2021         India           Unknown director\n",
       "6 Midnight Mass         TV Show 2021         Unknown country Mike Flanagan   \n",
       "  cast                                                                                                                                                                                                                                                                                                           \n",
       "1 Unknown cast                                                                                                                                                                                                                                                                                                   \n",
       "2 Ama Qamata, Khosi Ngema, Gail Mabalane, Thabang Molaba, Dillon Windvogel, Natasha Thahane, Arno Greeff, Xolile Tshabalala, Getmore Sithole, Cindy Mahlangu, Ryle De Morny, Greteli Fincham, Sello Maake Ka-Ncube, Odwa Gwanya, Mekaila Mathys, Sandi Schultz, Duane Williams, Shamilla Miller, Patrick Mofokeng\n",
       "3 Sami Bouajila, Tracy Gotoas, Samuel Jouy, Nabiha Akkari, Sofia Lesaffre, Salim Kechiouche, Noureddine Farihi, Geert Van Rampelberg, Bakary Diombera                                                                                                                                                            \n",
       "4 Unknown cast                                                                                                                                                                                                                                                                                                   \n",
       "5 Mayur More, Jitendra Kumar, Ranjan Raj, Alam Khan, Ahsaas Channa, Revathi Pillai, Urvi Singh, Arun Kumar                                                                                                                                                                                                       \n",
       "6 Kate Siegel, Zach Gilford, Hamish Linklater, Henry Thomas, Kristin Lehman, Samantha Sloyan, Igby Rigney, Rahul Kohli, Annarah Cymone, Annabeth Gish, Alex Essoe, Rahul Abburi, Matt Biedel, Michael Trucco, Crystal Balint, Louis Oliver                                                                       \n",
       "  rating listed_in                                                    \n",
       "1 PG-13  Documentaries                                                \n",
       "2 TV-MA  International TV Shows, TV Dramas, TV Mysteries              \n",
       "3 TV-MA  Crime TV Shows, International TV Shows, TV Action & Adventure\n",
       "4 TV-MA  Docuseries, Reality TV                                       \n",
       "5 TV-MA  International TV Shows, Romantic TV Shows, TV Comedies       \n",
       "6 TV-MA  TV Dramas, TV Horror, TV Mysteries                           \n",
       "  duration_min seasons\n",
       "1 90           NA     \n",
       "2 NA            2     \n",
       "3 NA            1     \n",
       "4 NA            1     \n",
       "5 NA            2     \n",
       "6 NA            1     "
      ]
     },
     "metadata": {},
     "output_type": "display_data"
    }
   ],
   "source": [
    "netflix_titles$duration <- NULL\n",
    "head(netflix_titles)"
   ]
  },
  {
   "cell_type": "markdown",
   "id": "764fff01",
   "metadata": {},
   "source": [
    "### Preview of Data"
   ]
  },
  {
   "cell_type": "code",
   "execution_count": 26,
   "id": "7e52dce3",
   "metadata": {
    "vscode": {
     "languageId": "r"
    }
   },
   "outputs": [
    {
     "data": {
      "text/html": [
       "<style>\n",
       ".list-inline {list-style: none; margin:0; padding: 0}\n",
       ".list-inline>li {display: inline-block}\n",
       ".list-inline>li:not(:last-child)::after {content: \"\\00b7\"; padding: 0 .5ex}\n",
       "</style>\n",
       "<ol class=list-inline><li>8808</li><li>10</li></ol>\n"
      ],
      "text/latex": [
       "\\begin{enumerate*}\n",
       "\\item 8808\n",
       "\\item 10\n",
       "\\end{enumerate*}\n"
      ],
      "text/markdown": [
       "1. 8808\n",
       "2. 10\n",
       "\n",
       "\n"
      ],
      "text/plain": [
       "[1] 8808   10"
      ]
     },
     "metadata": {},
     "output_type": "display_data"
    }
   ],
   "source": [
    "dim(netflix_titles)"
   ]
  },
  {
   "cell_type": "code",
   "execution_count": 28,
   "id": "d18bc1eb",
   "metadata": {
    "vscode": {
     "languageId": "r"
    }
   },
   "outputs": [
    {
     "name": "stdout",
     "output_type": "stream",
     "text": [
      "Rows: 8,808\n",
      "Columns: 10\n",
      "$ title        \u001b[3m\u001b[90m<chr>\u001b[39m\u001b[23m \"Dick Johnson Is Dead\", \"Blood & Water\", \"Ganglands\", \"Ja…\n",
      "$ type         \u001b[3m\u001b[90m<chr>\u001b[39m\u001b[23m \"Movie\", \"TV Show\", \"TV Show\", \"TV Show\", \"TV Show\", \"TV …\n",
      "$ release_year \u001b[3m\u001b[90m<dbl>\u001b[39m\u001b[23m 2020, 2021, 2021, 2021, 2021, 2021, 2021, 1993, 2021, 202…\n",
      "$ country      \u001b[3m\u001b[90m<chr>\u001b[39m\u001b[23m \"United States\", \"South Africa\", \"Unknown country\", \"Unkn…\n",
      "$ director     \u001b[3m\u001b[90m<chr>\u001b[39m\u001b[23m \"Kirsten Johnson\", \"Unknown director\", \"Julien Leclercq\",…\n",
      "$ cast         \u001b[3m\u001b[90m<chr>\u001b[39m\u001b[23m \"Unknown cast\", \"Ama Qamata, Khosi Ngema, Gail Mabalane, …\n",
      "$ rating       \u001b[3m\u001b[90m<chr>\u001b[39m\u001b[23m \"PG-13\", \"TV-MA\", \"TV-MA\", \"TV-MA\", \"TV-MA\", \"TV-MA\", \"PG…\n",
      "$ listed_in    \u001b[3m\u001b[90m<chr>\u001b[39m\u001b[23m \"Documentaries\", \"International TV Shows, TV Dramas, TV M…\n",
      "$ duration_min \u001b[3m\u001b[90m<dbl>\u001b[39m\u001b[23m 90, NA, NA, NA, NA, NA, 91, 125, NA, 104, NA, NA, 127, 91…\n",
      "$ seasons      \u001b[3m\u001b[90m<dbl>\u001b[39m\u001b[23m NA, 2, 1, 1, 2, 1, NA, NA, 9, NA, 1, 1, NA, NA, 1, 4, NA,…\n"
     ]
    }
   ],
   "source": [
    "glimpse(netflix_titles)"
   ]
  },
  {
   "cell_type": "markdown",
   "id": "56154f47",
   "metadata": {},
   "source": [
    "## Análisis Exploratorio (EDA)"
   ]
  },
  {
   "cell_type": "markdown",
   "id": "e78d7d21",
   "metadata": {},
   "source": [
    "### Análisis Estadístico"
   ]
  },
  {
   "cell_type": "code",
   "execution_count": 34,
   "id": "5aa2424b",
   "metadata": {
    "vscode": {
     "languageId": "r"
    }
   },
   "outputs": [
    {
     "data": {
      "text/plain": [
       "   Min. 1st Qu.  Median    Mean 3rd Qu.    Max.    NA's \n",
       "   1925    2013    2017    2014    2019    2024       3 "
      ]
     },
     "metadata": {},
     "output_type": "display_data"
    },
    {
     "data": {
      "text/plain": [
       "   Min. 1st Qu.  Median    Mean 3rd Qu.    Max.    NA's \n",
       "   3.00   87.00   98.00   99.58  114.00  312.00    2682 "
      ]
     },
     "metadata": {},
     "output_type": "display_data"
    },
    {
     "data": {
      "text/plain": [
       "   Min. 1st Qu.  Median    Mean 3rd Qu.    Max.    NA's \n",
       "  1.000   1.000   1.000   1.765   2.000  17.000    6132 "
      ]
     },
     "metadata": {},
     "output_type": "display_data"
    }
   ],
   "source": [
    "summary(netflix_titles$release_year)\n",
    "summary(netflix_titles$duration_min)\n",
    "summary(netflix_titles$seasons)"
   ]
  },
  {
   "cell_type": "markdown",
   "id": "7e14069c",
   "metadata": {},
   "source": [
    "#### Correlaciones"
   ]
  },
  {
   "cell_type": "markdown",
   "id": "75848677",
   "metadata": {},
   "source": [
    "La correlación entre release_year y seasons podría tener sentido si estás investigando si las series más recientes tienden a tener más o menos temporadas en comparación con las series más antiguas. Por ejemplo, podrías tener una hipótesis de que las series de televisión han aumentado o disminuido en número de temporadas con el paso del tiempo."
   ]
  },
  {
   "cell_type": "code",
   "execution_count": 36,
   "id": "1e325a26",
   "metadata": {
    "vscode": {
     "languageId": "r"
    }
   },
   "outputs": [
    {
     "data": {
      "text/html": [
       "-0.0903558364813859"
      ],
      "text/latex": [
       "-0.0903558364813859"
      ],
      "text/markdown": [
       "-0.0903558364813859"
      ],
      "text/plain": [
       "[1] -0.09035584"
      ]
     },
     "metadata": {},
     "output_type": "display_data"
    }
   ],
   "source": [
    "# Usa na.omit para excluir valores NA que podrían interferir con la correlación\n",
    "clean_data <- na.omit(netflix_titles[, c(\"release_year\", \"seasons\")])\n",
    "\n",
    "# Calcula el coeficiente de correlación\n",
    "correlation <- cor(clean_data$release_year, clean_data$seasons)\n",
    "\n",
    "# Muestra el coeficiente de correlación\n",
    "correlation"
   ]
  },
  {
   "cell_type": "markdown",
   "id": "b731e281",
   "metadata": {},
   "source": [
    "The correlation analysis between the release year of Netflix series and the number of seasons yielded a correlation coefficient of approximately -0.09. This value indicates a very weak negative linear relationship, suggesting that there is no significant trend that newer series have more or fewer seasons compared to older ones. The weak correlation implies that as the years progress, the number of seasons for series does not consistently increase or decrease in any meaningful way. Given the lack of a strong relationship, it might be more productive to explore other potential factors that could influence the number of seasons a series gets, or to consider different types of statistical analyses that could uncover non-linear relationships or interactions with other variables."
   ]
  },
  {
   "cell_type": "markdown",
   "id": "204bc11c",
   "metadata": {},
   "source": [
    "#### Detección de valores atípicos"
   ]
  },
  {
   "cell_type": "code",
   "execution_count": 39,
   "id": "39d3fc96",
   "metadata": {
    "vscode": {
     "languageId": "r"
    }
   },
   "outputs": [
    {
     "data": {
      "image/png": "[encoded data removed]",
      "text/plain": [
       "Plot with title \"Boxplot for Release Year\""
      ]
     },
     "metadata": {
      "image/png": {
       "height": 420,
       "width": 420
      }
     },
     "output_type": "display_data"
    }
   ],
   "source": [
    "boxplot(netflix_titles$release_year, main=\"Boxplot for Release Year\", ylab=\"Year\")"
   ]
  },
  {
   "cell_type": "markdown",
   "id": "1f9b62e0",
   "metadata": {},
   "source": [
    "The boxplot for the release year of titles on Netflix demonstrates a concentration of release dates primarily between the late 1990s and the present, with the bulk of the data lying comfortably within this range. The median release year, indicated by the line within the box, appears to be around the early 2010s, suggesting that the median title available on Netflix was released during that time. Notably, there are several points that fall below the bottom whisker, which extend down to around the 1940s or potentially earlier. These points are likely to be considered outliers, representing a small number of titles that were released significantly earlier than the majority. The presence of these outliers indicates that while Netflix's catalog is mainly composed of more recent releases, it does also contain a selection of much older titles."
   ]
  },
  {
   "cell_type": "code",
   "execution_count": 40,
   "id": "5579665c",
   "metadata": {
    "vscode": {
     "languageId": "r"
    }
   },
   "outputs": [
    {
     "data": {
      "image/png": "[encoded data removed]",
      "text/plain": [
       "Plot with title \"Boxplot for Duration (min)\""
      ]
     },
     "metadata": {
      "image/png": {
       "height": 420,
       "width": 420
      }
     },
     "output_type": "display_data"
    }
   ],
   "source": [
    "boxplot(netflix_titles$duration_min, main=\"Boxplot for Duration (min)\", ylab=\"Minutes\")"
   ]
  },
  {
   "cell_type": "markdown",
   "id": "361d72d5",
   "metadata": {},
   "source": [
    "The boxplot for the duration of Netflix titles shows the spread of the length of movies and possibly single episodes of series. The median duration, represented by the line within the box, is approximately at 100 minutes, which is typical for the length of a standard feature film. The interquartile range, depicted by the box itself, is quite narrow, suggesting that a significant number of Netflix titles cluster around this median duration. However, there is a substantial number of outliers, which are indicated by the individual points above the upper whisker. These outliers suggest that there are several titles significantly longer than the average, potentially including extended films or collections of episodes grouped as one title. The lower whisker doesn't extend very far, indicating there are relatively few titles with very short durations. Overall, this distribution with its outliers reveals the presence of a diverse range of content lengths on Netflix, although the majority tend to be around the typical length of a movie."
   ]
  },
  {
   "cell_type": "code",
   "execution_count": 41,
   "id": "2da20028",
   "metadata": {
    "vscode": {
     "languageId": "r"
    }
   },
   "outputs": [
    {
     "data": {
      "image/png": "[encoded data removed]",
      "text/plain": [
       "Plot with title \"Boxplot for Seasons\""
      ]
     },
     "metadata": {
      "image/png": {
       "height": 420,
       "width": 420
      }
     },
     "output_type": "display_data"
    }
   ],
   "source": [
    "boxplot(netflix_titles$seasons, main=\"Boxplot for Seasons\", ylab=\"Number of Seasons\")"
   ]
  },
  {
   "cell_type": "markdown",
   "id": "cb1bb4c9",
   "metadata": {},
   "source": [
    "The boxplot for the number of seasons of series on Netflix indicates that the majority of series have a relatively small number of seasons, with the median at or just above 1 season, which is in line with the common practice of initially commissioning a single season for new series. The interquartile range is tight, implying that most series do not deviate far from this median number. However, the considerable number of outliers above the upper whisker highlights that there are series with many more seasons available. This suggests that while Netflix tends to offer series with fewer seasons, there is also a selection of long-running series in its catalog. The existence of these outliers may reflect a few classic or particularly successful series that have been renewed multiple times."
   ]
  },
  {
   "cell_type": "markdown",
   "id": "1fec54d2",
   "metadata": {},
   "source": [
    "### Análisis Visual"
   ]
  },
  {
   "cell_type": "code",
   "execution_count": null,
   "id": "6be5d968",
   "metadata": {
    "vscode": {
     "languageId": "r"
    }
   },
   "outputs": [],
   "source": [
    "install.packages(\"ggplot2\")\n",
    "library(ggplot2)"
   ]
  },
  {
   "cell_type": "markdown",
   "id": "37480b4c",
   "metadata": {},
   "source": [
    "#### Distribución de películas frente a series"
   ]
  },
  {
   "cell_type": "code",
   "execution_count": 44,
   "id": "c0815c3b",
   "metadata": {
    "vscode": {
     "languageId": "r"
    }
   },
   "outputs": [
    {
     "data": {
      "image/png": "[encoded data removed]",
      "text/plain": [
       "plot without title"
      ]
     },
     "metadata": {
      "image/png": {
       "height": 420,
       "width": 420
      }
     },
     "output_type": "display_data"
    }
   ],
   "source": [
    "# Filtrar solo para 'Movie' o 'TV Show'\n",
    "netflix_titles_filtered <- netflix_titles %>% \n",
    "  filter(type %in% c(\"Movie\", \"TV Show\"))\n",
    "\n",
    "# Ahora crearemos el gráfico solo con estos dos tipos.\n",
    "ggplot(netflix_titles_filtered, aes(x = type)) +\n",
    "  geom_bar(fill = 'blue', color = 'black') +\n",
    "  labs(title = \"Distribución de Tipo de Contenido (Solo películas y series)\", x = \"Tipo\", y = \"Conteo\")"
   ]
  },
  {
   "cell_type": "markdown",
   "id": "4b7d77ed",
   "metadata": {},
   "source": [
    "#### Tendencias a lo largo del tiempo:\n"
   ]
  },
  {
   "cell_type": "code",
   "execution_count": 45,
   "id": "edb87bfa",
   "metadata": {
    "vscode": {
     "languageId": "r"
    }
   },
   "outputs": [
    {
     "name": "stderr",
     "output_type": "stream",
     "text": [
      "Warning message:\n",
      "\"\u001b[1m\u001b[22mRemoved 3 rows containing non-finite outside the scale range (`stat_bin()`).\"\n"
     ]
    },
    {
     "data": {
      "image/png": "[encoded data removed]",
      "text/plain": [
       "plot without title"
      ]
     },
     "metadata": {
      "image/png": {
       "height": 420,
       "width": 420
      }
     },
     "output_type": "display_data"
    }
   ],
   "source": [
    "ggplot(netflix_titles, aes(x = as.numeric(release_year))) +\n",
    "  geom_histogram(binwidth = 1, fill = 'green', color = 'black') +\n",
    "  labs(title = \"Tendencia de Lanzamientos por Año\", x = \"Año de Lanzamiento\", y = \"Conteo de Títulos\") +\n",
    "  theme_minimal()"
   ]
  },
  {
   "cell_type": "markdown",
   "id": "4b0420f5",
   "metadata": {},
   "source": [
    "#### Distribución por país:\n"
   ]
  },
  {
   "cell_type": "code",
   "execution_count": 50,
   "id": "ae2a49cb",
   "metadata": {
    "vscode": {
     "languageId": "r"
    }
   },
   "outputs": [
    {
     "data": {
      "image/png": "[encoded data removed]",
      "text/plain": [
       "plot without title"
      ]
     },
     "metadata": {
      "image/png": {
       "height": 420,
       "width": 420
      }
     },
     "output_type": "display_data"
    }
   ],
   "source": [
    "top_countries <- netflix_titles %>%\n",
    "  count(country) %>%\n",
    "  top_n(10, n) %>%\n",
    "  pull(country)\n",
    "\n",
    "netflix_titles_filtered <- netflix_titles %>%\n",
    "  mutate(country = ifelse(country %in% top_countries, country, 'Other'))\n",
    "\n",
    "ggplot(netflix_titles_filtered, aes(x = country)) +\n",
    "  geom_bar(fill = 'red', color = 'black') +\n",
    "  theme(axis.text.x = element_text(angle = 45, hjust = 1)) +\n",
    "  labs(title = \"Distribución de Contenido por País\", x = \"País\", y = \"Conteo\") +\n",
    "  theme(plot.title = element_text(hjust = 0.5)) # Centrar el título"
   ]
  },
  {
   "cell_type": "markdown",
   "id": "c4ef4f19",
   "metadata": {},
   "source": [
    "#### Duración del contenido:"
   ]
  },
  {
   "cell_type": "code",
   "execution_count": 47,
   "id": "34ece1f4",
   "metadata": {
    "vscode": {
     "languageId": "r"
    }
   },
   "outputs": [
    {
     "name": "stderr",
     "output_type": "stream",
     "text": [
      "Warning message:\n",
      "\"\u001b[1m\u001b[22mRemoved 4 rows containing non-finite outside the scale range (`stat_bin()`).\"\n"
     ]
    },
    {
     "data": {
      "image/png": "[encoded data removed]",
      "text/plain": [
       "plot without title"
      ]
     },
     "metadata": {
      "image/png": {
       "height": 420,
       "width": 420
      }
     },
     "output_type": "display_data"
    },
    {
     "data": {
      "image/png": "[encoded data removed]",
      "text/plain": [
       "plot without title"
      ]
     },
     "metadata": {
      "image/png": {
       "height": 420,
       "width": 420
      }
     },
     "output_type": "display_data"
    }
   ],
   "source": [
    "# Histograma para películas\n",
    "ggplot(subset(netflix_titles, type == \"Movie\"), aes(x = duration_min)) +\n",
    "  geom_histogram(binwidth = 10, fill = 'purple', color = 'black') +\n",
    "  labs(title = \"Distribución de la Duración de Películas\", x = \"Duración (minutos)\", y = \"Conteo\")\n",
    "\n",
    "# Barplot para series, mostrando las temporadas\n",
    "ggplot(subset(netflix_titles, type == \"TV Show\"), aes(x = as.factor(seasons))) +\n",
    "  geom_bar(fill = 'orange', color = 'black') +\n",
    "  labs(title = \"Distribución del Número de Temporadas de Series\", x = \"Número de Temporadas\", y = \"Conteo\")"
   ]
  },
  {
   "cell_type": "markdown",
   "id": "a15e4525",
   "metadata": {},
   "source": [
    "#### Calificaciones y su relación con otros factores:"
   ]
  },
  {
   "cell_type": "code",
   "execution_count": 57,
   "id": "95a2fe09",
   "metadata": {
    "vscode": {
     "languageId": "r"
    }
   },
   "outputs": [
    {
     "data": {
      "image/png": "[encoded data removed]",
      "text/plain": [
       "plot without title"
      ]
     },
     "metadata": {
      "image/png": {
       "height": 420,
       "width": 420
      }
     },
     "output_type": "display_data"
    }
   ],
   "source": [
    "# Asegurarse de que netflix_titles_filtered sólo tenga 'Movie' y 'TV Show'\n",
    "netflix_titles_filtered <- netflix_titles_filtered %>%\n",
    "  filter(type %in% c(\"Movie\", \"TV Show\"))\n",
    "\n",
    "# Crear el gráfico con el dataframe filtrado\n",
    "ggplot(netflix_titles_filtered, aes(x = rating, fill = type)) +\n",
    "  geom_bar(position = \"dodge\", color = 'black') +\n",
    "  labs(title = \"Relación de Calificación con Tipo de Contenido\", x = \"Calificación\", y = \"Conteo\") +\n",
    "  theme(axis.text.x = element_text(angle = 90, vjust = 0.5)) +\n",
    "  scale_fill_brewer(palette = \"Set1\") # Usar una paleta de colores mejor"
   ]
  }
 ],
 "metadata": {
  "kernelspec": {
   "display_name": "R",
   "language": "R",
   "name": "ir"
  },
  "language_info": {
   "codemirror_mode": "r",
   "file_extension": ".r",
   "mimetype": "text/x-r-source",
   "name": "R",
   "pygments_lexer": "r",
   "version": "4.3.1"
  }
 },
 "nbformat": 4,
 "nbformat_minor": 5
}
