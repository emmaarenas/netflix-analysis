{
 "cells": [
  {
   "cell_type": "markdown",
   "id": "2b9dba5b",
   "metadata": {},
   "source": [
    "***Emma Arenas Villaverde***\n",
    "***"
   ]
  },
  {
   "cell_type": "markdown",
   "id": "639f93a9",
   "metadata": {},
   "source": [
    "# Netflix Dataset Analysis\n",
    "The `netflix-titles` dataset is an extensive collection of data encompassing a wide array of movies and TV shows available on Netflix. This dataset offers invaluable insights into the trends and patterns in media content on a major streaming platform. It serves as a crucial resource for media analysts, content creators, and researchers interested in exploring content strategies, viewer preferences, and the evolving landscape of digital entertainment."
   ]
  },
  {
   "cell_type": "markdown",
   "id": "07ab1228",
   "metadata": {},
   "source": [
    "## Data Preparation and Cleaning"
   ]
  },
  {
   "cell_type": "markdown",
   "id": "7d2f2266",
   "metadata": {},
   "source": [
    "### Importing Libraries"
   ]
  },
  {
   "cell_type": "code",
   "execution_count": null,
   "id": "1a150c0a",
   "metadata": {
    "vscode": {
     "languageId": "r"
    }
   },
   "outputs": [],
   "source": [
    "install.packages(\"readr\") # to read CSV files\n",
    "install.packages(\"dplyr\") # for data manipulation\n",
    "install.packages(\"lubridate\") # for \n",
    "library(lubridate)\n",
    "library(readr)\n",
    "library(dplyr)"
   ]
  },
  {
   "cell_type": "markdown",
   "id": "fe4b964d",
   "metadata": {},
   "source": [
    "###  Loading Dataset"
   ]
  },
  {
   "cell_type": "code",
   "execution_count": 26,
   "id": "e09fbcfc",
   "metadata": {
    "vscode": {
     "languageId": "r"
    }
   },
   "outputs": [],
   "source": [
    "netflix_titles <- read.csv2(\"../data/netflix-titles.csv\")"
   ]
  },
  {
   "cell_type": "markdown",
   "id": "e28cd5c9",
   "metadata": {},
   "source": [
    "### Data Overview"
   ]
  },
  {
   "cell_type": "code",
   "execution_count": 27,
   "id": "74eba195",
   "metadata": {
    "vscode": {
     "languageId": "r"
    }
   },
   "outputs": [
    {
     "data": {
      "text/html": [
       "<style>\n",
       ".list-inline {list-style: none; margin:0; padding: 0}\n",
       ".list-inline>li {display: inline-block}\n",
       ".list-inline>li:not(:last-child)::after {content: \"\\00b7\"; padding: 0 .5ex}\n",
       "</style>\n",
       "<ol class=list-inline><li>8811</li><li>12</li></ol>\n"
      ],
      "text/latex": [
       "\\begin{enumerate*}\n",
       "\\item 8811\n",
       "\\item 12\n",
       "\\end{enumerate*}\n"
      ],
      "text/markdown": [
       "1. 8811\n",
       "2. 12\n",
       "\n",
       "\n"
      ],
      "text/plain": [
       "[1] 8811   12"
      ]
     },
     "metadata": {},
     "output_type": "display_data"
    }
   ],
   "source": [
    "dim(netflix_titles) # to obtain its dimensions"
   ]
  },
  {
   "cell_type": "code",
   "execution_count": 29,
   "id": "37047e9c",
   "metadata": {
    "vscode": {
     "languageId": "r"
    }
   },
   "outputs": [
    {
     "name": "stdout",
     "output_type": "stream",
     "text": [
      "'data.frame':\t8811 obs. of  12 variables:\n",
      " $ show_id     : chr  \"s1\" \"s2\" \"s3\" \"s4\" ...\n",
      " $ type        : chr  \"Movie\" \"TV Show\" \"TV Show\" \"TV Show\" ...\n",
      " $ title       : chr  \"Dick Johnson Is Dead\" \"Blood & Water\" \"Ganglands\" \"Jailbirds New Orleans\" ...\n",
      " $ director    : chr  \"Kirsten Johnson\" \"\" \"Julien Leclercq\" \"\" ...\n",
      " $ cast        : chr  \"\" \"Ama Qamata, Khosi Ngema, Gail Mabalane, Thabang Molaba, Dillon Windvogel, Natasha Thahane, Arno Greeff, Xolile \"| __truncated__ \"Sami Bouajila, Tracy Gotoas, Samuel Jouy, Nabiha Akkari, Sofia Lesaffre, Salim Kechiouche, Noureddine Farihi, G\"| __truncated__ \"\" ...\n",
      " $ country     : chr  \"United States\" \"South Africa\" \"\" \"\" ...\n",
      " $ date_added  : chr  \"September 25, 2021\" \"September 24, 2021\" \"September 24, 2021\" \"September 24, 2021\" ...\n",
      " $ release_year: chr  \"2020\" \"2021\" \"2021\" \"2021\" ...\n",
      " $ rating      : chr  \"PG-13\" \"TV-MA\" \"TV-MA\" \"TV-MA\" ...\n",
      " $ duration    : chr  \"90 min\" \"2 Seasons\" \"1 Season\" \"1 Season\" ...\n",
      " $ listed_in   : chr  \"Documentaries\" \"International TV Shows, TV Dramas, TV Mysteries\" \"Crime TV Shows, International TV Shows, TV Action & Adventure\" \"Docuseries, Reality TV\" ...\n",
      " $ description : chr  \"As her father nears the end of his life, filmmaker Kirsten Johnson stages his death in inventive and comical wa\"| __truncated__ \"After crossing paths at a party, a Cape Town teen sets out to prove whether a private-school swimming star is h\"| __truncated__ \"To protect his family from a powerful drug lord, skilled thief Mehdi and his expert team of robbers are pulled \"| __truncated__ \"Feuds, flirtations and toilet talk go down among the incarcerated women at the Orleans Justice Center in New Or\"| __truncated__ ...\n"
     ]
    }
   ],
   "source": [
    "str(netflix_titles) # to see its internal structure"
   ]
  },
  {
   "cell_type": "code",
   "execution_count": 30,
   "id": "f4cbad7f",
   "metadata": {
    "vscode": {
     "languageId": "r"
    }
   },
   "outputs": [
    {
     "data": {
      "text/html": [
       "<table class=\"dataframe\">\n",
       "<caption>A data.frame: 6 × 12</caption>\n",
       "<thead>\n",
       "\t<tr><th></th><th scope=col>show_id</th><th scope=col>type</th><th scope=col>title</th><th scope=col>director</th><th scope=col>cast</th><th scope=col>country</th><th scope=col>date_added</th><th scope=col>release_year</th><th scope=col>rating</th><th scope=col>duration</th><th scope=col>listed_in</th><th scope=col>description</th></tr>\n",
       "\t<tr><th></th><th scope=col>&lt;chr&gt;</th><th scope=col>&lt;chr&gt;</th><th scope=col>&lt;chr&gt;</th><th scope=col>&lt;chr&gt;</th><th scope=col>&lt;chr&gt;</th><th scope=col>&lt;chr&gt;</th><th scope=col>&lt;chr&gt;</th><th scope=col>&lt;chr&gt;</th><th scope=col>&lt;chr&gt;</th><th scope=col>&lt;chr&gt;</th><th scope=col>&lt;chr&gt;</th><th scope=col>&lt;chr&gt;</th></tr>\n",
       "</thead>\n",
       "<tbody>\n",
       "\t<tr><th scope=row>1</th><td>s1</td><td>Movie  </td><td>Dick Johnson Is Dead </td><td>Kirsten Johnson</td><td>                                                                                                                                                                                                                                                                                                               </td><td>United States</td><td>September 25, 2021</td><td>2020</td><td>PG-13</td><td>90 min   </td><td>Documentaries                                                </td><td>As her father nears the end of his life, filmmaker Kirsten Johnson stages his death in inventive and comical ways to help them both face the inevitable.</td></tr>\n",
       "\t<tr><th scope=row>2</th><td>s2</td><td>TV Show</td><td><span style=white-space:pre-wrap>Blood &amp; Water        </span></td><td><span style=white-space:pre-wrap>               </span></td><td>Ama Qamata, Khosi Ngema, Gail Mabalane, Thabang Molaba, Dillon Windvogel, Natasha Thahane, Arno Greeff, Xolile Tshabalala, Getmore Sithole, Cindy Mahlangu, Ryle De Morny, Greteli Fincham, Sello Maake Ka-Ncube, Odwa Gwanya, Mekaila Mathys, Sandi Schultz, Duane Williams, Shamilla Miller, Patrick Mofokeng</td><td>South Africa </td><td>September 24, 2021</td><td>2021</td><td>TV-MA</td><td>2 Seasons</td><td><span style=white-space:pre-wrap>International TV Shows, TV Dramas, TV Mysteries              </span></td><td><span style=white-space:pre-wrap>After crossing paths at a party, a Cape Town teen sets out to prove whether a private-school swimming star is her sister who was abducted at birth.     </span></td></tr>\n",
       "\t<tr><th scope=row>3</th><td>s3</td><td>TV Show</td><td><span style=white-space:pre-wrap>Ganglands            </span></td><td>Julien Leclercq</td><td><span style=white-space:pre-wrap>Sami Bouajila, Tracy Gotoas, Samuel Jouy, Nabiha Akkari, Sofia Lesaffre, Salim Kechiouche, Noureddine Farihi, Geert Van Rampelberg, Bakary Diombera                                                                                                                                                            </span></td><td><span style=white-space:pre-wrap>             </span></td><td>September 24, 2021</td><td>2021</td><td>TV-MA</td><td>1 Season </td><td>Crime TV Shows, International TV Shows, TV Action &amp; Adventure</td><td><span style=white-space:pre-wrap>To protect his family from a powerful drug lord, skilled thief Mehdi and his expert team of robbers are pulled into a violent and deadly turf war.      </span></td></tr>\n",
       "\t<tr><th scope=row>4</th><td>s4</td><td>TV Show</td><td>Jailbirds New Orleans</td><td>               </td><td>                                                                                                                                                                                                                                                                                                               </td><td>             </td><td>September 24, 2021</td><td>2021</td><td>TV-MA</td><td>1 Season </td><td>Docuseries, Reality TV                                       </td><td>Feuds, flirtations and toilet talk go down among the incarcerated women at the Orleans Justice Center in New Orleans on this gritty reality series.     </td></tr>\n",
       "\t<tr><th scope=row>5</th><td>s5</td><td>TV Show</td><td>Kota Factory         </td><td>               </td><td>Mayur More, Jitendra Kumar, Ranjan Raj, Alam Khan, Ahsaas Channa, Revathi Pillai, Urvi Singh, Arun Kumar                                                                                                                                                                                                       </td><td>India        </td><td>September 24, 2021</td><td>2021</td><td>TV-MA</td><td>2 Seasons</td><td>International TV Shows, Romantic TV Shows, TV Comedies       </td><td>In a city of coaching centers known to train India’s finest collegiate minds, an earnest but unexceptional student and his friends navigate campus life.</td></tr>\n",
       "\t<tr><th scope=row>6</th><td>s6</td><td>TV Show</td><td>Midnight Mass        </td><td>Mike Flanagan  </td><td>Kate Siegel, Zach Gilford, Hamish Linklater, Henry Thomas, Kristin Lehman, Samantha Sloyan, Igby Rigney, Rahul Kohli, Annarah Cymone, Annabeth Gish, Alex Essoe, Rahul Abburi, Matt Biedel, Michael Trucco, Crystal Balint, Louis Oliver                                                                       </td><td>             </td><td>September 24, 2021</td><td>2021</td><td>TV-MA</td><td>1 Season </td><td>TV Dramas, TV Horror, TV Mysteries                           </td><td>The arrival of a charismatic young priest brings glorious miracles, ominous mysteries and renewed religious fervor to a dying town desperate to believe.</td></tr>\n",
       "</tbody>\n",
       "</table>\n"
      ],
      "text/latex": [
       "A data.frame: 6 × 12\n",
       "\\begin{tabular}{r|llllllllllll}\n",
       "  & show\\_id & type & title & director & cast & country & date\\_added & release\\_year & rating & duration & listed\\_in & description\\\\\n",
       "  & <chr> & <chr> & <chr> & <chr> & <chr> & <chr> & <chr> & <chr> & <chr> & <chr> & <chr> & <chr>\\\\\n",
       "\\hline\n",
       "\t1 & s1 & Movie   & Dick Johnson Is Dead  & Kirsten Johnson &                                                                                                                                                                                                                                                                                                                 & United States & September 25, 2021 & 2020 & PG-13 & 90 min    & Documentaries                                                 & As her father nears the end of his life, filmmaker Kirsten Johnson stages his death in inventive and comical ways to help them both face the inevitable.\\\\\n",
       "\t2 & s2 & TV Show & Blood \\& Water         &                 & Ama Qamata, Khosi Ngema, Gail Mabalane, Thabang Molaba, Dillon Windvogel, Natasha Thahane, Arno Greeff, Xolile Tshabalala, Getmore Sithole, Cindy Mahlangu, Ryle De Morny, Greteli Fincham, Sello Maake Ka-Ncube, Odwa Gwanya, Mekaila Mathys, Sandi Schultz, Duane Williams, Shamilla Miller, Patrick Mofokeng & South Africa  & September 24, 2021 & 2021 & TV-MA & 2 Seasons & International TV Shows, TV Dramas, TV Mysteries               & After crossing paths at a party, a Cape Town teen sets out to prove whether a private-school swimming star is her sister who was abducted at birth.     \\\\\n",
       "\t3 & s3 & TV Show & Ganglands             & Julien Leclercq & Sami Bouajila, Tracy Gotoas, Samuel Jouy, Nabiha Akkari, Sofia Lesaffre, Salim Kechiouche, Noureddine Farihi, Geert Van Rampelberg, Bakary Diombera                                                                                                                                                             &               & September 24, 2021 & 2021 & TV-MA & 1 Season  & Crime TV Shows, International TV Shows, TV Action \\& Adventure & To protect his family from a powerful drug lord, skilled thief Mehdi and his expert team of robbers are pulled into a violent and deadly turf war.      \\\\\n",
       "\t4 & s4 & TV Show & Jailbirds New Orleans &                 &                                                                                                                                                                                                                                                                                                                 &               & September 24, 2021 & 2021 & TV-MA & 1 Season  & Docuseries, Reality TV                                        & Feuds, flirtations and toilet talk go down among the incarcerated women at the Orleans Justice Center in New Orleans on this gritty reality series.     \\\\\n",
       "\t5 & s5 & TV Show & Kota Factory          &                 & Mayur More, Jitendra Kumar, Ranjan Raj, Alam Khan, Ahsaas Channa, Revathi Pillai, Urvi Singh, Arun Kumar                                                                                                                                                                                                        & India         & September 24, 2021 & 2021 & TV-MA & 2 Seasons & International TV Shows, Romantic TV Shows, TV Comedies        & In a city of coaching centers known to train India’s finest collegiate minds, an earnest but unexceptional student and his friends navigate campus life.\\\\\n",
       "\t6 & s6 & TV Show & Midnight Mass         & Mike Flanagan   & Kate Siegel, Zach Gilford, Hamish Linklater, Henry Thomas, Kristin Lehman, Samantha Sloyan, Igby Rigney, Rahul Kohli, Annarah Cymone, Annabeth Gish, Alex Essoe, Rahul Abburi, Matt Biedel, Michael Trucco, Crystal Balint, Louis Oliver                                                                        &               & September 24, 2021 & 2021 & TV-MA & 1 Season  & TV Dramas, TV Horror, TV Mysteries                            & The arrival of a charismatic young priest brings glorious miracles, ominous mysteries and renewed religious fervor to a dying town desperate to believe.\\\\\n",
       "\\end{tabular}\n"
      ],
      "text/markdown": [
       "\n",
       "A data.frame: 6 × 12\n",
       "\n",
       "| <!--/--> | show_id &lt;chr&gt; | type &lt;chr&gt; | title &lt;chr&gt; | director &lt;chr&gt; | cast &lt;chr&gt; | country &lt;chr&gt; | date_added &lt;chr&gt; | release_year &lt;chr&gt; | rating &lt;chr&gt; | duration &lt;chr&gt; | listed_in &lt;chr&gt; | description &lt;chr&gt; |\n",
       "|---|---|---|---|---|---|---|---|---|---|---|---|---|\n",
       "| 1 | s1 | Movie   | Dick Johnson Is Dead  | Kirsten Johnson | <!----> | United States | September 25, 2021 | 2020 | PG-13 | 90 min    | Documentaries                                                 | As her father nears the end of his life, filmmaker Kirsten Johnson stages his death in inventive and comical ways to help them both face the inevitable. |\n",
       "| 2 | s2 | TV Show | Blood &amp; Water         | <!----> | Ama Qamata, Khosi Ngema, Gail Mabalane, Thabang Molaba, Dillon Windvogel, Natasha Thahane, Arno Greeff, Xolile Tshabalala, Getmore Sithole, Cindy Mahlangu, Ryle De Morny, Greteli Fincham, Sello Maake Ka-Ncube, Odwa Gwanya, Mekaila Mathys, Sandi Schultz, Duane Williams, Shamilla Miller, Patrick Mofokeng | South Africa  | September 24, 2021 | 2021 | TV-MA | 2 Seasons | International TV Shows, TV Dramas, TV Mysteries               | After crossing paths at a party, a Cape Town teen sets out to prove whether a private-school swimming star is her sister who was abducted at birth.      |\n",
       "| 3 | s3 | TV Show | Ganglands             | Julien Leclercq | Sami Bouajila, Tracy Gotoas, Samuel Jouy, Nabiha Akkari, Sofia Lesaffre, Salim Kechiouche, Noureddine Farihi, Geert Van Rampelberg, Bakary Diombera                                                                                                                                                             | <!----> | September 24, 2021 | 2021 | TV-MA | 1 Season  | Crime TV Shows, International TV Shows, TV Action &amp; Adventure | To protect his family from a powerful drug lord, skilled thief Mehdi and his expert team of robbers are pulled into a violent and deadly turf war.       |\n",
       "| 4 | s4 | TV Show | Jailbirds New Orleans | <!----> | <!----> | <!----> | September 24, 2021 | 2021 | TV-MA | 1 Season  | Docuseries, Reality TV                                        | Feuds, flirtations and toilet talk go down among the incarcerated women at the Orleans Justice Center in New Orleans on this gritty reality series.      |\n",
       "| 5 | s5 | TV Show | Kota Factory          | <!----> | Mayur More, Jitendra Kumar, Ranjan Raj, Alam Khan, Ahsaas Channa, Revathi Pillai, Urvi Singh, Arun Kumar                                                                                                                                                                                                        | India         | September 24, 2021 | 2021 | TV-MA | 2 Seasons | International TV Shows, Romantic TV Shows, TV Comedies        | In a city of coaching centers known to train India’s finest collegiate minds, an earnest but unexceptional student and his friends navigate campus life. |\n",
       "| 6 | s6 | TV Show | Midnight Mass         | Mike Flanagan   | Kate Siegel, Zach Gilford, Hamish Linklater, Henry Thomas, Kristin Lehman, Samantha Sloyan, Igby Rigney, Rahul Kohli, Annarah Cymone, Annabeth Gish, Alex Essoe, Rahul Abburi, Matt Biedel, Michael Trucco, Crystal Balint, Louis Oliver                                                                        | <!----> | September 24, 2021 | 2021 | TV-MA | 1 Season  | TV Dramas, TV Horror, TV Mysteries                            | The arrival of a charismatic young priest brings glorious miracles, ominous mysteries and renewed religious fervor to a dying town desperate to believe. |\n",
       "\n"
      ],
      "text/plain": [
       "  show_id type    title                 director       \n",
       "1 s1      Movie   Dick Johnson Is Dead  Kirsten Johnson\n",
       "2 s2      TV Show Blood & Water                        \n",
       "3 s3      TV Show Ganglands             Julien Leclercq\n",
       "4 s4      TV Show Jailbirds New Orleans                \n",
       "5 s5      TV Show Kota Factory                         \n",
       "6 s6      TV Show Midnight Mass         Mike Flanagan  \n",
       "  cast                                                                                                                                                                                                                                                                                                           \n",
       "1                                                                                                                                                                                                                                                                                                                \n",
       "2 Ama Qamata, Khosi Ngema, Gail Mabalane, Thabang Molaba, Dillon Windvogel, Natasha Thahane, Arno Greeff, Xolile Tshabalala, Getmore Sithole, Cindy Mahlangu, Ryle De Morny, Greteli Fincham, Sello Maake Ka-Ncube, Odwa Gwanya, Mekaila Mathys, Sandi Schultz, Duane Williams, Shamilla Miller, Patrick Mofokeng\n",
       "3 Sami Bouajila, Tracy Gotoas, Samuel Jouy, Nabiha Akkari, Sofia Lesaffre, Salim Kechiouche, Noureddine Farihi, Geert Van Rampelberg, Bakary Diombera                                                                                                                                                            \n",
       "4                                                                                                                                                                                                                                                                                                                \n",
       "5 Mayur More, Jitendra Kumar, Ranjan Raj, Alam Khan, Ahsaas Channa, Revathi Pillai, Urvi Singh, Arun Kumar                                                                                                                                                                                                       \n",
       "6 Kate Siegel, Zach Gilford, Hamish Linklater, Henry Thomas, Kristin Lehman, Samantha Sloyan, Igby Rigney, Rahul Kohli, Annarah Cymone, Annabeth Gish, Alex Essoe, Rahul Abburi, Matt Biedel, Michael Trucco, Crystal Balint, Louis Oliver                                                                       \n",
       "  country       date_added         release_year rating duration \n",
       "1 United States September 25, 2021 2020         PG-13  90 min   \n",
       "2 South Africa  September 24, 2021 2021         TV-MA  2 Seasons\n",
       "3               September 24, 2021 2021         TV-MA  1 Season \n",
       "4               September 24, 2021 2021         TV-MA  1 Season \n",
       "5 India         September 24, 2021 2021         TV-MA  2 Seasons\n",
       "6               September 24, 2021 2021         TV-MA  1 Season \n",
       "  listed_in                                                    \n",
       "1 Documentaries                                                \n",
       "2 International TV Shows, TV Dramas, TV Mysteries              \n",
       "3 Crime TV Shows, International TV Shows, TV Action & Adventure\n",
       "4 Docuseries, Reality TV                                       \n",
       "5 International TV Shows, Romantic TV Shows, TV Comedies       \n",
       "6 TV Dramas, TV Horror, TV Mysteries                           \n",
       "  description                                                                                                                                             \n",
       "1 As her father nears the end of his life, filmmaker Kirsten Johnson stages his death in inventive and comical ways to help them both face the inevitable.\n",
       "2 After crossing paths at a party, a Cape Town teen sets out to prove whether a private-school swimming star is her sister who was abducted at birth.     \n",
       "3 To protect his family from a powerful drug lord, skilled thief Mehdi and his expert team of robbers are pulled into a violent and deadly turf war.      \n",
       "4 Feuds, flirtations and toilet talk go down among the incarcerated women at the Orleans Justice Center in New Orleans on this gritty reality series.     \n",
       "5 In a city of coaching centers known to train India’s finest collegiate minds, an earnest but unexceptional student and his friends navigate campus life.\n",
       "6 The arrival of a charismatic young priest brings glorious miracles, ominous mysteries and renewed religious fervor to a dying town desperate to believe."
      ]
     },
     "metadata": {},
     "output_type": "display_data"
    }
   ],
   "source": [
    "head(netflix_titles) # to view its first six rows"
   ]
  },
  {
   "cell_type": "markdown",
   "id": "72dc3ae7",
   "metadata": {},
   "source": [
    "### Removing Unwanted Columns"
   ]
  },
  {
   "cell_type": "code",
   "execution_count": 33,
   "id": "3951744e",
   "metadata": {
    "vscode": {
     "languageId": "r"
    }
   },
   "outputs": [],
   "source": [
    "netflix_titles$show_id <- NULL\n",
    "netflix_titles$description <- NULL\n",
    "netflix_titles$date_added <- NULL"
   ]
  },
  {
   "cell_type": "code",
   "execution_count": 34,
   "id": "63d29506",
   "metadata": {
    "vscode": {
     "languageId": "r"
    }
   },
   "outputs": [
    {
     "data": {
      "text/html": [
       "<style>\n",
       ".list-inline {list-style: none; margin:0; padding: 0}\n",
       ".list-inline>li {display: inline-block}\n",
       ".list-inline>li:not(:last-child)::after {content: \"\\00b7\"; padding: 0 .5ex}\n",
       "</style>\n",
       "<ol class=list-inline><li>'type'</li><li>'title'</li><li>'director'</li><li>'cast'</li><li>'country'</li><li>'release_year'</li><li>'rating'</li><li>'duration'</li><li>'listed_in'</li></ol>\n"
      ],
      "text/latex": [
       "\\begin{enumerate*}\n",
       "\\item 'type'\n",
       "\\item 'title'\n",
       "\\item 'director'\n",
       "\\item 'cast'\n",
       "\\item 'country'\n",
       "\\item 'release\\_year'\n",
       "\\item 'rating'\n",
       "\\item 'duration'\n",
       "\\item 'listed\\_in'\n",
       "\\end{enumerate*}\n"
      ],
      "text/markdown": [
       "1. 'type'\n",
       "2. 'title'\n",
       "3. 'director'\n",
       "4. 'cast'\n",
       "5. 'country'\n",
       "6. 'release_year'\n",
       "7. 'rating'\n",
       "8. 'duration'\n",
       "9. 'listed_in'\n",
       "\n",
       "\n"
      ],
      "text/plain": [
       "[1] \"type\"         \"title\"        \"director\"     \"cast\"         \"country\"     \n",
       "[6] \"release_year\" \"rating\"       \"duration\"     \"listed_in\"   "
      ]
     },
     "metadata": {},
     "output_type": "display_data"
    }
   ],
   "source": [
    "names(netflix_titles)"
   ]
  },
  {
   "cell_type": "markdown",
   "id": "cc43f07d",
   "metadata": {},
   "source": [
    "#### Rearrancing Columns"
   ]
  },
  {
   "cell_type": "code",
   "execution_count": 35,
   "id": "9dc51a71",
   "metadata": {
    "vscode": {
     "languageId": "r"
    }
   },
   "outputs": [],
   "source": [
    "netflix_titles <- netflix_titles[,c(\"title\",\"type\",\"release_year\",\"director\",\"cast\",\"rating\",\"listed_in\")]"
   ]
  },
  {
   "cell_type": "code",
   "execution_count": 36,
   "id": "750abca0",
   "metadata": {
    "vscode": {
     "languageId": "r"
    }
   },
   "outputs": [
    {
     "data": {
      "text/html": [
       "<style>\n",
       ".list-inline {list-style: none; margin:0; padding: 0}\n",
       ".list-inline>li {display: inline-block}\n",
       ".list-inline>li:not(:last-child)::after {content: \"\\00b7\"; padding: 0 .5ex}\n",
       "</style>\n",
       "<ol class=list-inline><li>'title'</li><li>'type'</li><li>'release_year'</li><li>'director'</li><li>'cast'</li><li>'rating'</li><li>'listed_in'</li></ol>\n"
      ],
      "text/latex": [
       "\\begin{enumerate*}\n",
       "\\item 'title'\n",
       "\\item 'type'\n",
       "\\item 'release\\_year'\n",
       "\\item 'director'\n",
       "\\item 'cast'\n",
       "\\item 'rating'\n",
       "\\item 'listed\\_in'\n",
       "\\end{enumerate*}\n"
      ],
      "text/markdown": [
       "1. 'title'\n",
       "2. 'type'\n",
       "3. 'release_year'\n",
       "4. 'director'\n",
       "5. 'cast'\n",
       "6. 'rating'\n",
       "7. 'listed_in'\n",
       "\n",
       "\n"
      ],
      "text/plain": [
       "[1] \"title\"        \"type\"         \"release_year\" \"director\"     \"cast\"        \n",
       "[6] \"rating\"       \"listed_in\"   "
      ]
     },
     "metadata": {},
     "output_type": "display_data"
    }
   ],
   "source": [
    "names(netflix_titles)"
   ]
  },
  {
   "cell_type": "markdown",
   "id": "5e7a7747",
   "metadata": {},
   "source": [
    "### Detection of Duplicate Record"
   ]
  },
  {
   "cell_type": "code",
   "execution_count": 40,
   "id": "86431795",
   "metadata": {
    "vscode": {
     "languageId": "r"
    }
   },
   "outputs": [
    {
     "data": {
      "text/html": [
       "<table class=\"dataframe\">\n",
       "<caption>A data.frame: 3 × 7</caption>\n",
       "<thead>\n",
       "\t<tr><th></th><th scope=col>title</th><th scope=col>type</th><th scope=col>release_year</th><th scope=col>director</th><th scope=col>cast</th><th scope=col>rating</th><th scope=col>listed_in</th></tr>\n",
       "\t<tr><th></th><th scope=col>&lt;chr&gt;</th><th scope=col>&lt;chr&gt;</th><th scope=col>&lt;chr&gt;</th><th scope=col>&lt;chr&gt;</th><th scope=col>&lt;chr&gt;</th><th scope=col>&lt;chr&gt;</th><th scope=col>&lt;chr&gt;</th></tr>\n",
       "</thead>\n",
       "<tbody>\n",
       "\t<tr><th scope=row>5965</th><td>feb-09</td><td>TV Show</td><td>2018</td><td>                  </td><td>Shahd El Yaseen, Shaila Sabt, Hala, Hanadi Al-Kandari, Salma Salem, Ibrahim Al-Harbi, Mahmoud Boushahri, Yousef Al Balushi, Ghorour, Abdullah Al-bloshi</td><td>TV-14</td><td>International TV Shows, TV Dramas   </td></tr>\n",
       "\t<tr><th scope=row>5966</th><td>22-jul</td><td>Movie  </td><td>2018</td><td>Paul Greengrass   </td><td>Anders Danielsen Lie, Jon Øigarden, Jonas Strand Gravli, Ola G. Furuseth, Maria Bock, Thorbjørn Harr, Jaden Smith                                      </td><td>R    </td><td>Dramas, Thrillers                   </td></tr>\n",
       "\t<tr><th scope=row>5967</th><td>15-Aug</td><td>Movie  </td><td>2019</td><td>Swapnaneel Jayakar</td><td>Rahul Pethe, Mrunmayee Deshpande, Adinath Kothare, Vaibhav Mangale, Jaywant Wadkar, Satish Pulekar, Naina Apte, Uday Tikekar                           </td><td>TV-14</td><td>Comedies, Dramas, Independent Movies</td></tr>\n",
       "</tbody>\n",
       "</table>\n"
      ],
      "text/latex": [
       "A data.frame: 3 × 7\n",
       "\\begin{tabular}{r|lllllll}\n",
       "  & title & type & release\\_year & director & cast & rating & listed\\_in\\\\\n",
       "  & <chr> & <chr> & <chr> & <chr> & <chr> & <chr> & <chr>\\\\\n",
       "\\hline\n",
       "\t5965 & feb-09 & TV Show & 2018 &                    & Shahd El Yaseen, Shaila Sabt, Hala, Hanadi Al-Kandari, Salma Salem, Ibrahim Al-Harbi, Mahmoud Boushahri, Yousef Al Balushi, Ghorour, Abdullah Al-bloshi & TV-14 & International TV Shows, TV Dramas   \\\\\n",
       "\t5966 & 22-jul & Movie   & 2018 & Paul Greengrass    & Anders Danielsen Lie, Jon Øigarden, Jonas Strand Gravli, Ola G. Furuseth, Maria Bock, Thorbjørn Harr, Jaden Smith                                       & R     & Dramas, Thrillers                   \\\\\n",
       "\t5967 & 15-Aug & Movie   & 2019 & Swapnaneel Jayakar & Rahul Pethe, Mrunmayee Deshpande, Adinath Kothare, Vaibhav Mangale, Jaywant Wadkar, Satish Pulekar, Naina Apte, Uday Tikekar                            & TV-14 & Comedies, Dramas, Independent Movies\\\\\n",
       "\\end{tabular}\n"
      ],
      "text/markdown": [
       "\n",
       "A data.frame: 3 × 7\n",
       "\n",
       "| <!--/--> | title &lt;chr&gt; | type &lt;chr&gt; | release_year &lt;chr&gt; | director &lt;chr&gt; | cast &lt;chr&gt; | rating &lt;chr&gt; | listed_in &lt;chr&gt; |\n",
       "|---|---|---|---|---|---|---|---|\n",
       "| 5965 | feb-09 | TV Show | 2018 | <!----> | Shahd El Yaseen, Shaila Sabt, Hala, Hanadi Al-Kandari, Salma Salem, Ibrahim Al-Harbi, Mahmoud Boushahri, Yousef Al Balushi, Ghorour, Abdullah Al-bloshi | TV-14 | International TV Shows, TV Dramas    |\n",
       "| 5966 | 22-jul | Movie   | 2018 | Paul Greengrass    | Anders Danielsen Lie, Jon Øigarden, Jonas Strand Gravli, Ola G. Furuseth, Maria Bock, Thorbjørn Harr, Jaden Smith                                       | R     | Dramas, Thrillers                    |\n",
       "| 5967 | 15-Aug | Movie   | 2019 | Swapnaneel Jayakar | Rahul Pethe, Mrunmayee Deshpande, Adinath Kothare, Vaibhav Mangale, Jaywant Wadkar, Satish Pulekar, Naina Apte, Uday Tikekar                            | TV-14 | Comedies, Dramas, Independent Movies |\n",
       "\n"
      ],
      "text/plain": [
       "     title  type    release_year director          \n",
       "5965 feb-09 TV Show 2018                           \n",
       "5966 22-jul Movie   2018         Paul Greengrass   \n",
       "5967 15-Aug Movie   2019         Swapnaneel Jayakar\n",
       "     cast                                                                                                                                                   \n",
       "5965 Shahd El Yaseen, Shaila Sabt, Hala, Hanadi Al-Kandari, Salma Salem, Ibrahim Al-Harbi, Mahmoud Boushahri, Yousef Al Balushi, Ghorour, Abdullah Al-bloshi\n",
       "5966 Anders Danielsen Lie, Jon Øigarden, Jonas Strand Gravli, Ola G. Furuseth, Maria Bock, Thorbjørn Harr, Jaden Smith                                      \n",
       "5967 Rahul Pethe, Mrunmayee Deshpande, Adinath Kothare, Vaibhav Mangale, Jaywant Wadkar, Satish Pulekar, Naina Apte, Uday Tikekar                           \n",
       "     rating listed_in                           \n",
       "5965 TV-14  International TV Shows, TV Dramas   \n",
       "5966 R      Dramas, Thrillers                   \n",
       "5967 TV-14  Comedies, Dramas, Independent Movies"
      ]
     },
     "metadata": {},
     "output_type": "display_data"
    }
   ],
   "source": [
    "duplicated_rows <- duplicated(netflix_titles)\n",
    "netflix_titles[duplicated_rows,]"
   ]
  },
  {
   "cell_type": "code",
   "execution_count": null,
   "id": "955b5f23",
   "metadata": {
    "vscode": {
     "languageId": "r"
    }
   },
   "outputs": [],
   "source": [
    "netflix_titles <- netflix_titles %>% distinct() # función de la librería dplyr para borrar duplicados"
   ]
  },
  {
   "cell_type": "code",
   "execution_count": 44,
   "id": "1753e0cd",
   "metadata": {
    "vscode": {
     "languageId": "r"
    }
   },
   "outputs": [
    {
     "data": {
      "text/html": [
       "0"
      ],
      "text/latex": [
       "0"
      ],
      "text/markdown": [
       "0"
      ],
      "text/plain": [
       "[1] 0"
      ]
     },
     "metadata": {},
     "output_type": "display_data"
    }
   ],
   "source": [
    "sum(duplicated(netflix_titles))"
   ]
  },
  {
   "cell_type": "markdown",
   "id": "e05e99dd",
   "metadata": {},
   "source": [
    "### Checking Missing Values"
   ]
  },
  {
   "cell_type": "code",
   "execution_count": null,
   "id": "03922768",
   "metadata": {
    "vscode": {
     "languageId": "r"
    }
   },
   "outputs": [],
   "source": [
    "# Convertir todas las cadenas vacías en NA para todo el dataframe\n",
    "netflix_titles <- netflix_titles %>% \n",
    "  mutate(across(everything(), na_if, \"\"))"
   ]
  },
  {
   "cell_type": "code",
   "execution_count": 60,
   "id": "486846c3",
   "metadata": {
    "vscode": {
     "languageId": "r"
    }
   },
   "outputs": [
    {
     "data": {
      "text/html": [
       "TRUE"
      ],
      "text/latex": [
       "TRUE"
      ],
      "text/markdown": [
       "TRUE"
      ],
      "text/plain": [
       "[1] TRUE"
      ]
     },
     "metadata": {},
     "output_type": "display_data"
    }
   ],
   "source": [
    "missing_values <- any(is.na(netflix_titles))\n",
    "missing_values"
   ]
  },
  {
   "cell_type": "code",
   "execution_count": 61,
   "id": "63c31cdf",
   "metadata": {
    "vscode": {
     "languageId": "r"
    }
   },
   "outputs": [
    {
     "data": {
      "text/html": [
       "<table class=\"dataframe\">\n",
       "<caption>A data.frame: 1 × 7</caption>\n",
       "<thead>\n",
       "\t<tr><th scope=col>title</th><th scope=col>type</th><th scope=col>release_year</th><th scope=col>director</th><th scope=col>cast</th><th scope=col>rating</th><th scope=col>listed_in</th></tr>\n",
       "\t<tr><th scope=col>&lt;int&gt;</th><th scope=col>&lt;int&gt;</th><th scope=col>&lt;int&gt;</th><th scope=col>&lt;int&gt;</th><th scope=col>&lt;int&gt;</th><th scope=col>&lt;int&gt;</th><th scope=col>&lt;int&gt;</th></tr>\n",
       "</thead>\n",
       "<tbody>\n",
       "\t<tr><td>2</td><td>1</td><td>2</td><td>2635</td><td>826</td><td>6</td><td>3</td></tr>\n",
       "</tbody>\n",
       "</table>\n"
      ],
      "text/latex": [
       "A data.frame: 1 × 7\n",
       "\\begin{tabular}{lllllll}\n",
       " title & type & release\\_year & director & cast & rating & listed\\_in\\\\\n",
       " <int> & <int> & <int> & <int> & <int> & <int> & <int>\\\\\n",
       "\\hline\n",
       "\t 2 & 1 & 2 & 2635 & 826 & 6 & 3\\\\\n",
       "\\end{tabular}\n"
      ],
      "text/markdown": [
       "\n",
       "A data.frame: 1 × 7\n",
       "\n",
       "| title &lt;int&gt; | type &lt;int&gt; | release_year &lt;int&gt; | director &lt;int&gt; | cast &lt;int&gt; | rating &lt;int&gt; | listed_in &lt;int&gt; |\n",
       "|---|---|---|---|---|---|---|\n",
       "| 2 | 1 | 2 | 2635 | 826 | 6 | 3 |\n",
       "\n"
      ],
      "text/plain": [
       "  title type release_year director cast rating listed_in\n",
       "1 2     1    2            2635     826  6      3        "
      ]
     },
     "metadata": {},
     "output_type": "display_data"
    }
   ],
   "source": [
    "# Contar valores faltantes en cada columna\n",
    "netflix_titles %>%\n",
    "  summarise(across(everything(), ~sum(is.na(.))))"
   ]
  },
  {
   "cell_type": "markdown",
   "id": "5f810bd4",
   "metadata": {},
   "source": [
    "#### Fixing Missing Values"
   ]
  },
  {
   "cell_type": "code",
   "execution_count": 63,
   "id": "48f2712f",
   "metadata": {
    "vscode": {
     "languageId": "r"
    }
   },
   "outputs": [],
   "source": [
    "netflix_titles$title[is.na(netflix_titles$title)] <- \"Unknown title\"\n",
    "netflix_titles$type[is.na(netflix_titles$type)] <- \"Unknown type\"\n",
    "netflix_titles$release_year[is.na(netflix_titles$release_year)] <- \"Unknown year\"\n",
    "netflix_titles$director[is.na(netflix_titles$director)] <- \"Unknown director\"\n",
    "netflix_titles$cast[is.na(netflix_titles$cast)] <- \"Unknown cast\"\n",
    "netflix_titles$rating[is.na(netflix_titles$rating)] <- \"Unknown rating\"\n",
    "netflix_titles$listed_in[is.na(netflix_titles$listed_in)] <- \"Unknown list\""
   ]
  },
  {
   "cell_type": "code",
   "execution_count": 65,
   "id": "2ac2c705",
   "metadata": {
    "vscode": {
     "languageId": "r"
    }
   },
   "outputs": [
    {
     "data": {
      "text/html": [
       "<table class=\"dataframe\">\n",
       "<caption>A data.frame: 1 × 7</caption>\n",
       "<thead>\n",
       "\t<tr><th scope=col>title</th><th scope=col>type</th><th scope=col>release_year</th><th scope=col>director</th><th scope=col>cast</th><th scope=col>rating</th><th scope=col>listed_in</th></tr>\n",
       "\t<tr><th scope=col>&lt;int&gt;</th><th scope=col>&lt;int&gt;</th><th scope=col>&lt;int&gt;</th><th scope=col>&lt;int&gt;</th><th scope=col>&lt;int&gt;</th><th scope=col>&lt;int&gt;</th><th scope=col>&lt;int&gt;</th></tr>\n",
       "</thead>\n",
       "<tbody>\n",
       "\t<tr><td>0</td><td>0</td><td>0</td><td>0</td><td>0</td><td>0</td><td>0</td></tr>\n",
       "</tbody>\n",
       "</table>\n"
      ],
      "text/latex": [
       "A data.frame: 1 × 7\n",
       "\\begin{tabular}{lllllll}\n",
       " title & type & release\\_year & director & cast & rating & listed\\_in\\\\\n",
       " <int> & <int> & <int> & <int> & <int> & <int> & <int>\\\\\n",
       "\\hline\n",
       "\t 0 & 0 & 0 & 0 & 0 & 0 & 0\\\\\n",
       "\\end{tabular}\n"
      ],
      "text/markdown": [
       "\n",
       "A data.frame: 1 × 7\n",
       "\n",
       "| title &lt;int&gt; | type &lt;int&gt; | release_year &lt;int&gt; | director &lt;int&gt; | cast &lt;int&gt; | rating &lt;int&gt; | listed_in &lt;int&gt; |\n",
       "|---|---|---|---|---|---|---|\n",
       "| 0 | 0 | 0 | 0 | 0 | 0 | 0 |\n",
       "\n"
      ],
      "text/plain": [
       "  title type release_year director cast rating listed_in\n",
       "1 0     0    0            0        0    0      0        "
      ]
     },
     "metadata": {},
     "output_type": "display_data"
    }
   ],
   "source": [
    "netflix_titles %>%\n",
    "  summarise(across(everything(), ~sum(is.na(.))))"
   ]
  },
  {
   "cell_type": "markdown",
   "id": "1fc6851f",
   "metadata": {},
   "source": [
    "### Changing Data Type of Columns"
   ]
  },
  {
   "cell_type": "code",
   "execution_count": 68,
   "id": "ef7c587d",
   "metadata": {
    "vscode": {
     "languageId": "r"
    }
   },
   "outputs": [
    {
     "name": "stdout",
     "output_type": "stream",
     "text": [
      " num [1:8808] 2020 2021 2021 2021 2021 ...\n"
     ]
    }
   ],
   "source": [
    "netflix_titles$release_year <- as.numeric(netflix_titles$release_year)\n",
    "str(netflix_titles$release_year)"
   ]
  },
  {
   "cell_type": "code",
   "execution_count": 71,
   "id": "4df8def9",
   "metadata": {
    "vscode": {
     "languageId": "r"
    }
   },
   "outputs": [
    {
     "ename": "ERROR",
     "evalue": "\u001b[1m\u001b[33mError\u001b[39m in `mutate()`:\u001b[22m\n\u001b[1m\u001b[22m\u001b[36mℹ\u001b[39m In argument: `seasons = ifelse(...)`.\n\u001b[1mCaused by error in `str_extract()`:\u001b[22m\n\u001b[33m!\u001b[39m no se pudo encontrar la función \"str_extract\"\n",
     "output_type": "error",
     "traceback": [
      "\u001b[1m\u001b[33mError\u001b[39m in `mutate()`:\u001b[22m\n\u001b[1m\u001b[22m\u001b[36mℹ\u001b[39m In argument: `seasons = ifelse(...)`.\n\u001b[1mCaused by error in `str_extract()`:\u001b[22m\n\u001b[33m!\u001b[39m no se pudo encontrar la función \"str_extract\"\nTraceback:\n",
      "1. netflix_titles %>% mutate(seasons = ifelse(type == \"TV Show\", \n .     as.numeric(str_extract(duration, \"\\\\d+\")), NA))",
      "2. mutate(., seasons = ifelse(type == \"TV Show\", as.numeric(str_extract(duration, \n .     \"\\\\d+\")), NA))",
      "3. mutate.data.frame(., seasons = ifelse(type == \"TV Show\", as.numeric(str_extract(duration, \n .     \"\\\\d+\")), NA))",
      "4. mutate_cols(.data, dplyr_quosures(...), by)",
      "5. withCallingHandlers(for (i in seq_along(dots)) {\n .     poke_error_context(dots, i, mask = mask)\n .     context_poke(\"column\", old_current_column)\n .     new_columns <- mutate_col(dots[[i]], data, mask, new_columns)\n . }, error = dplyr_error_handler(dots = dots, mask = mask, bullets = mutate_bullets, \n .     error_call = error_call, error_class = \"dplyr:::mutate_error\"), \n .     warning = dplyr_warning_handler(state = warnings_state, mask = mask, \n .         error_call = error_call))",
      "6. mutate_col(dots[[i]], data, mask, new_columns)",
      "7. mask$eval_all_mutate(quo)",
      "8. eval()",
      "9. ifelse(type == \"TV Show\", as.numeric(str_extract(duration, \"\\\\d+\")), \n .     NA)",
      "10. .handleSimpleError(function (cnd) \n  . {\n  .     local_error_context(dots, i = frame[[i_sym]], mask = mask)\n  .     if (inherits(cnd, \"dplyr:::internal_error\")) {\n  .         parent <- error_cnd(message = bullets(cnd))\n  .     }\n  .     else {\n  .         parent <- cnd\n  .     }\n  .     message <- c(cnd_bullet_header(action), i = if (has_active_group_context(mask)) cnd_bullet_cur_group_label())\n  .     abort(message, class = error_class, parent = parent, call = error_call)\n  . }, \"no se pudo encontrar la función \\\"str_extract\\\"\", base::quote(str_extract(duration, \n  .     \"\\\\d+\")))",
      "11. h(simpleError(msg, call))",
      "12. abort(message, class = error_class, parent = parent, call = error_call)",
      "13. signal_abort(cnd, .file)"
     ]
    }
   ],
   "source": [
    "netflix_titles <- netflix_titles %>%\n",
    "  mutate(seasons = ifelse(type == \"TV Show\", as.numeric(str_extract(duration, \"\\\\d+\")), NA))"
   ]
  },
  {
   "cell_type": "code",
   "execution_count": 70,
   "id": "5dfcbd4a",
   "metadata": {
    "vscode": {
     "languageId": "r"
    }
   },
   "outputs": [
    {
     "ename": "ERROR",
     "evalue": "Error in `$<-.data.frame`(`*tmp*`, date_added, value = structure(numeric(0), class = \"Date\")): replacement has 0 rows, data has 8808\n",
     "output_type": "error",
     "traceback": [
      "Error in `$<-.data.frame`(`*tmp*`, date_added, value = structure(numeric(0), class = \"Date\")): replacement has 0 rows, data has 8808\nTraceback:\n",
      "1. `$<-`(`*tmp*`, date_added, value = structure(numeric(0), class = \"Date\"))",
      "2. `$<-.data.frame`(`*tmp*`, date_added, value = structure(numeric(0), class = \"Date\"))",
      "3. stop(sprintf(ngettext(N, \"replacement has %d row, data has %d\", \n .     \"replacement has %d rows, data has %d\"), N, nrows), domain = NA)"
     ]
    }
   ],
   "source": [
    "netflix_titles$date_added <- mdy(netflix_titles$date_added)\n",
    "str(netflix_titles$date_added)"
   ]
  }
 ],
 "metadata": {
  "kernelspec": {
   "display_name": "R",
   "language": "R",
   "name": "ir"
  },
  "language_info": {
   "codemirror_mode": "r",
   "file_extension": ".r",
   "mimetype": "text/x-r-source",
   "name": "R",
   "pygments_lexer": "r",
   "version": "4.3.1"
  }
 },
 "nbformat": 4,
 "nbformat_minor": 5
}
